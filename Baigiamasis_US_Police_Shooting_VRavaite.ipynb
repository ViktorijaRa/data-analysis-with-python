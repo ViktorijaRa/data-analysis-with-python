{
 "cells": [
  {
   "cell_type": "markdown",
   "id": "dcb8fb45",
   "metadata": {},
   "source": [
    "# US POLICE SHOOTINGS IN 2015-2022"
   ]
  },
  {
   "cell_type": "markdown",
   "id": "4017fcf7",
   "metadata": {},
   "source": [
    "### In 2015, The Washington Post began to log every fatal shooting by an on-duty police officer in the United States. In that time there have been more than 5,000 such shootings recorded by The Post.\n",
    "\n",
    "### After Michael Brown, an unarmed Black man, was killed in 2014 by police in Ferguson, Mo., a Post investigation found that the FBI undercounted fatal police shootings by more than half. This is because reporting by police departments is voluntary and many departments fail to do so.\n",
    "\n",
    "### The Post’s data relies primarily on news accounts, social media postings and police reports. Analysis of more than five years of data reveals that the number and circumstances of fatal shootings and the overall demographics of the victims have remained relatively constant."
   ]
  },
  {
   "cell_type": "code",
   "execution_count": 191,
   "id": "5b1e472b",
   "metadata": {},
   "outputs": [
    {
     "name": "stdout",
     "output_type": "stream",
     "text": [
      "The nb_black extension is already loaded. To reload it, use:\n",
      "  %reload_ext nb_black\n"
     ]
    },
    {
     "data": {
      "application/javascript": [
       "\n",
       "            setTimeout(function() {\n",
       "                var nbb_cell_id = 191;\n",
       "                var nbb_unformatted_code = \"%load_ext nb_black\";\n",
       "                var nbb_formatted_code = \"%load_ext nb_black\";\n",
       "                var nbb_cells = Jupyter.notebook.get_cells();\n",
       "                for (var i = 0; i < nbb_cells.length; ++i) {\n",
       "                    if (nbb_cells[i].input_prompt_number == nbb_cell_id) {\n",
       "                        if (nbb_cells[i].get_text() == nbb_unformatted_code) {\n",
       "                             nbb_cells[i].set_text(nbb_formatted_code);\n",
       "                        }\n",
       "                        break;\n",
       "                    }\n",
       "                }\n",
       "            }, 500);\n",
       "            "
      ],
      "text/plain": [
       "<IPython.core.display.Javascript object>"
      ]
     },
     "metadata": {},
     "output_type": "display_data"
    }
   ],
   "source": [
    "%load_ext nb_black"
   ]
  },
  {
   "cell_type": "code",
   "execution_count": 192,
   "id": "d8b19624",
   "metadata": {},
   "outputs": [
    {
     "data": {
      "application/javascript": [
       "\n",
       "            setTimeout(function() {\n",
       "                var nbb_cell_id = 192;\n",
       "                var nbb_unformatted_code = \"# Import necessary tools\\n\\nimport pandas as pd\\nimport numpy as np\\nimport seaborn as sns\\nimport matplotlib.pyplot as plt\";\n",
       "                var nbb_formatted_code = \"# Import necessary tools\\n\\nimport pandas as pd\\nimport numpy as np\\nimport seaborn as sns\\nimport matplotlib.pyplot as plt\";\n",
       "                var nbb_cells = Jupyter.notebook.get_cells();\n",
       "                for (var i = 0; i < nbb_cells.length; ++i) {\n",
       "                    if (nbb_cells[i].input_prompt_number == nbb_cell_id) {\n",
       "                        if (nbb_cells[i].get_text() == nbb_unformatted_code) {\n",
       "                             nbb_cells[i].set_text(nbb_formatted_code);\n",
       "                        }\n",
       "                        break;\n",
       "                    }\n",
       "                }\n",
       "            }, 500);\n",
       "            "
      ],
      "text/plain": [
       "<IPython.core.display.Javascript object>"
      ]
     },
     "metadata": {},
     "output_type": "display_data"
    }
   ],
   "source": [
    "# Import necessary tools\n",
    "\n",
    "import pandas as pd\n",
    "import numpy as np\n",
    "import seaborn as sns\n",
    "import matplotlib.pyplot as plt"
   ]
  },
  {
   "cell_type": "code",
   "execution_count": 193,
   "id": "223142a0",
   "metadata": {},
   "outputs": [
    {
     "data": {
      "application/javascript": [
       "\n",
       "            setTimeout(function() {\n",
       "                var nbb_cell_id = 193;\n",
       "                var nbb_unformatted_code = \"# Import database\\n\\ndf_civilians = pd.read_csv(\\\"US Police shootings in from 2015-22.csv\\\")\";\n",
       "                var nbb_formatted_code = \"# Import database\\n\\ndf_civilians = pd.read_csv(\\\"US Police shootings in from 2015-22.csv\\\")\";\n",
       "                var nbb_cells = Jupyter.notebook.get_cells();\n",
       "                for (var i = 0; i < nbb_cells.length; ++i) {\n",
       "                    if (nbb_cells[i].input_prompt_number == nbb_cell_id) {\n",
       "                        if (nbb_cells[i].get_text() == nbb_unformatted_code) {\n",
       "                             nbb_cells[i].set_text(nbb_formatted_code);\n",
       "                        }\n",
       "                        break;\n",
       "                    }\n",
       "                }\n",
       "            }, 500);\n",
       "            "
      ],
      "text/plain": [
       "<IPython.core.display.Javascript object>"
      ]
     },
     "metadata": {},
     "output_type": "display_data"
    }
   ],
   "source": [
    "# Import database\n",
    "\n",
    "df_civilians = pd.read_csv(\"US Police shootings in from 2015-22.csv\")"
   ]
  },
  {
   "cell_type": "code",
   "execution_count": 194,
   "id": "404c5d50",
   "metadata": {},
   "outputs": [
    {
     "data": {
      "text/html": [
       "<div>\n",
       "<style scoped>\n",
       "    .dataframe tbody tr th:only-of-type {\n",
       "        vertical-align: middle;\n",
       "    }\n",
       "\n",
       "    .dataframe tbody tr th {\n",
       "        vertical-align: top;\n",
       "    }\n",
       "\n",
       "    .dataframe thead th {\n",
       "        text-align: right;\n",
       "    }\n",
       "</style>\n",
       "<table border=\"1\" class=\"dataframe\">\n",
       "  <thead>\n",
       "    <tr style=\"text-align: right;\">\n",
       "      <th></th>\n",
       "      <th>id</th>\n",
       "      <th>name</th>\n",
       "      <th>date</th>\n",
       "      <th>manner_of_death</th>\n",
       "      <th>armed</th>\n",
       "      <th>age</th>\n",
       "      <th>gender</th>\n",
       "      <th>race</th>\n",
       "      <th>city</th>\n",
       "      <th>state</th>\n",
       "      <th>signs_of_mental_illness</th>\n",
       "      <th>threat_level</th>\n",
       "      <th>flee</th>\n",
       "      <th>body_camera</th>\n",
       "      <th>longitude</th>\n",
       "      <th>latitude</th>\n",
       "      <th>is_geocoding_exact</th>\n",
       "    </tr>\n",
       "  </thead>\n",
       "  <tbody>\n",
       "    <tr>\n",
       "      <th>0</th>\n",
       "      <td>1</td>\n",
       "      <td>Tim Elliot</td>\n",
       "      <td>2015-01-02</td>\n",
       "      <td>shot</td>\n",
       "      <td>gun</td>\n",
       "      <td>53.0</td>\n",
       "      <td>M</td>\n",
       "      <td>A</td>\n",
       "      <td>Shelton</td>\n",
       "      <td>WA</td>\n",
       "      <td>True</td>\n",
       "      <td>attack</td>\n",
       "      <td>Not fleeing</td>\n",
       "      <td>False</td>\n",
       "      <td>-123.122</td>\n",
       "      <td>47.247</td>\n",
       "      <td>True</td>\n",
       "    </tr>\n",
       "    <tr>\n",
       "      <th>1</th>\n",
       "      <td>2</td>\n",
       "      <td>Lewis Lee Lembke</td>\n",
       "      <td>2015-01-02</td>\n",
       "      <td>shot</td>\n",
       "      <td>gun</td>\n",
       "      <td>47.0</td>\n",
       "      <td>M</td>\n",
       "      <td>W</td>\n",
       "      <td>Aloha</td>\n",
       "      <td>OR</td>\n",
       "      <td>False</td>\n",
       "      <td>attack</td>\n",
       "      <td>Not fleeing</td>\n",
       "      <td>False</td>\n",
       "      <td>-122.892</td>\n",
       "      <td>45.487</td>\n",
       "      <td>True</td>\n",
       "    </tr>\n",
       "    <tr>\n",
       "      <th>2</th>\n",
       "      <td>3</td>\n",
       "      <td>John Paul Quintero</td>\n",
       "      <td>2015-01-03</td>\n",
       "      <td>shot and Tasered</td>\n",
       "      <td>unarmed</td>\n",
       "      <td>23.0</td>\n",
       "      <td>M</td>\n",
       "      <td>H</td>\n",
       "      <td>Wichita</td>\n",
       "      <td>KS</td>\n",
       "      <td>False</td>\n",
       "      <td>other</td>\n",
       "      <td>Not fleeing</td>\n",
       "      <td>False</td>\n",
       "      <td>-97.281</td>\n",
       "      <td>37.695</td>\n",
       "      <td>True</td>\n",
       "    </tr>\n",
       "    <tr>\n",
       "      <th>3</th>\n",
       "      <td>4</td>\n",
       "      <td>Matthew Hoffman</td>\n",
       "      <td>2015-01-04</td>\n",
       "      <td>shot</td>\n",
       "      <td>toy weapon</td>\n",
       "      <td>32.0</td>\n",
       "      <td>M</td>\n",
       "      <td>W</td>\n",
       "      <td>San Francisco</td>\n",
       "      <td>CA</td>\n",
       "      <td>True</td>\n",
       "      <td>attack</td>\n",
       "      <td>Not fleeing</td>\n",
       "      <td>False</td>\n",
       "      <td>-122.422</td>\n",
       "      <td>37.763</td>\n",
       "      <td>True</td>\n",
       "    </tr>\n",
       "    <tr>\n",
       "      <th>4</th>\n",
       "      <td>5</td>\n",
       "      <td>Michael Rodriguez</td>\n",
       "      <td>2015-01-04</td>\n",
       "      <td>shot</td>\n",
       "      <td>nail gun</td>\n",
       "      <td>39.0</td>\n",
       "      <td>M</td>\n",
       "      <td>H</td>\n",
       "      <td>Evans</td>\n",
       "      <td>CO</td>\n",
       "      <td>False</td>\n",
       "      <td>attack</td>\n",
       "      <td>Not fleeing</td>\n",
       "      <td>False</td>\n",
       "      <td>-104.692</td>\n",
       "      <td>40.384</td>\n",
       "      <td>True</td>\n",
       "    </tr>\n",
       "  </tbody>\n",
       "</table>\n",
       "</div>"
      ],
      "text/plain": [
       "   id                name        date   manner_of_death       armed   age  \\\n",
       "0   1          Tim Elliot  2015-01-02              shot         gun  53.0   \n",
       "1   2    Lewis Lee Lembke  2015-01-02              shot         gun  47.0   \n",
       "2   3  John Paul Quintero  2015-01-03  shot and Tasered     unarmed  23.0   \n",
       "3   4     Matthew Hoffman  2015-01-04              shot  toy weapon  32.0   \n",
       "4   5   Michael Rodriguez  2015-01-04              shot    nail gun  39.0   \n",
       "\n",
       "  gender race           city state  signs_of_mental_illness threat_level  \\\n",
       "0      M    A        Shelton    WA                     True       attack   \n",
       "1      M    W          Aloha    OR                    False       attack   \n",
       "2      M    H        Wichita    KS                    False        other   \n",
       "3      M    W  San Francisco    CA                     True       attack   \n",
       "4      M    H          Evans    CO                    False       attack   \n",
       "\n",
       "          flee  body_camera  longitude  latitude  is_geocoding_exact  \n",
       "0  Not fleeing        False   -123.122    47.247                True  \n",
       "1  Not fleeing        False   -122.892    45.487                True  \n",
       "2  Not fleeing        False    -97.281    37.695                True  \n",
       "3  Not fleeing        False   -122.422    37.763                True  \n",
       "4  Not fleeing        False   -104.692    40.384                True  "
      ]
     },
     "execution_count": 194,
     "metadata": {},
     "output_type": "execute_result"
    },
    {
     "data": {
      "application/javascript": [
       "\n",
       "            setTimeout(function() {\n",
       "                var nbb_cell_id = 194;\n",
       "                var nbb_unformatted_code = \"# Check the data\\n\\ndf_civilians.head()\";\n",
       "                var nbb_formatted_code = \"# Check the data\\n\\ndf_civilians.head()\";\n",
       "                var nbb_cells = Jupyter.notebook.get_cells();\n",
       "                for (var i = 0; i < nbb_cells.length; ++i) {\n",
       "                    if (nbb_cells[i].input_prompt_number == nbb_cell_id) {\n",
       "                        if (nbb_cells[i].get_text() == nbb_unformatted_code) {\n",
       "                             nbb_cells[i].set_text(nbb_formatted_code);\n",
       "                        }\n",
       "                        break;\n",
       "                    }\n",
       "                }\n",
       "            }, 500);\n",
       "            "
      ],
      "text/plain": [
       "<IPython.core.display.Javascript object>"
      ]
     },
     "metadata": {},
     "output_type": "display_data"
    }
   ],
   "source": [
    "# Check the data\n",
    "\n",
    "df_civilians.head()"
   ]
  },
  {
   "cell_type": "code",
   "execution_count": 195,
   "id": "3098486c",
   "metadata": {},
   "outputs": [
    {
     "data": {
      "text/html": [
       "<div>\n",
       "<style scoped>\n",
       "    .dataframe tbody tr th:only-of-type {\n",
       "        vertical-align: middle;\n",
       "    }\n",
       "\n",
       "    .dataframe tbody tr th {\n",
       "        vertical-align: top;\n",
       "    }\n",
       "\n",
       "    .dataframe thead th {\n",
       "        text-align: right;\n",
       "    }\n",
       "</style>\n",
       "<table border=\"1\" class=\"dataframe\">\n",
       "  <thead>\n",
       "    <tr style=\"text-align: right;\">\n",
       "      <th></th>\n",
       "      <th>id</th>\n",
       "      <th>name</th>\n",
       "      <th>date</th>\n",
       "      <th>manner_of_death</th>\n",
       "      <th>armed</th>\n",
       "      <th>age</th>\n",
       "      <th>gender</th>\n",
       "      <th>race</th>\n",
       "      <th>city</th>\n",
       "      <th>state</th>\n",
       "      <th>signs_of_mental_illness</th>\n",
       "      <th>threat_level</th>\n",
       "      <th>flee</th>\n",
       "      <th>body_camera</th>\n",
       "      <th>longitude</th>\n",
       "      <th>latitude</th>\n",
       "      <th>is_geocoding_exact</th>\n",
       "    </tr>\n",
       "  </thead>\n",
       "  <tbody>\n",
       "    <tr>\n",
       "      <th>7724</th>\n",
       "      <td>7725</td>\n",
       "      <td>NaN</td>\n",
       "      <td>2022-09-07</td>\n",
       "      <td>shot</td>\n",
       "      <td>screwdriver</td>\n",
       "      <td>NaN</td>\n",
       "      <td>M</td>\n",
       "      <td>NaN</td>\n",
       "      <td>Flagstaff</td>\n",
       "      <td>AZ</td>\n",
       "      <td>False</td>\n",
       "      <td>other</td>\n",
       "      <td>Foot</td>\n",
       "      <td>False</td>\n",
       "      <td>-111.584</td>\n",
       "      <td>35.224</td>\n",
       "      <td>True</td>\n",
       "    </tr>\n",
       "    <tr>\n",
       "      <th>7725</th>\n",
       "      <td>7726</td>\n",
       "      <td>NaN</td>\n",
       "      <td>2022-09-07</td>\n",
       "      <td>shot</td>\n",
       "      <td>gun</td>\n",
       "      <td>NaN</td>\n",
       "      <td>M</td>\n",
       "      <td>W</td>\n",
       "      <td>Springville</td>\n",
       "      <td>AL</td>\n",
       "      <td>False</td>\n",
       "      <td>attack</td>\n",
       "      <td>Car</td>\n",
       "      <td>False</td>\n",
       "      <td>-86.472</td>\n",
       "      <td>33.775</td>\n",
       "      <td>True</td>\n",
       "    </tr>\n",
       "    <tr>\n",
       "      <th>7726</th>\n",
       "      <td>7727</td>\n",
       "      <td>NaN</td>\n",
       "      <td>2022-09-07</td>\n",
       "      <td>shot</td>\n",
       "      <td>knife</td>\n",
       "      <td>61.0</td>\n",
       "      <td>M</td>\n",
       "      <td>B</td>\n",
       "      <td>St. Louis</td>\n",
       "      <td>MO</td>\n",
       "      <td>False</td>\n",
       "      <td>other</td>\n",
       "      <td>Not fleeing</td>\n",
       "      <td>False</td>\n",
       "      <td>-90.290</td>\n",
       "      <td>38.668</td>\n",
       "      <td>True</td>\n",
       "    </tr>\n",
       "    <tr>\n",
       "      <th>7727</th>\n",
       "      <td>7728</td>\n",
       "      <td>Tyler Michael Gardner</td>\n",
       "      <td>2022-09-07</td>\n",
       "      <td>shot</td>\n",
       "      <td>gun</td>\n",
       "      <td>27.0</td>\n",
       "      <td>M</td>\n",
       "      <td>NaN</td>\n",
       "      <td>Washington County</td>\n",
       "      <td>TN</td>\n",
       "      <td>False</td>\n",
       "      <td>attack</td>\n",
       "      <td>Other</td>\n",
       "      <td>False</td>\n",
       "      <td>-82.539</td>\n",
       "      <td>36.309</td>\n",
       "      <td>True</td>\n",
       "    </tr>\n",
       "    <tr>\n",
       "      <th>7728</th>\n",
       "      <td>7729</td>\n",
       "      <td>Reginald Lamont Grant</td>\n",
       "      <td>2022-09-07</td>\n",
       "      <td>shot</td>\n",
       "      <td>gun</td>\n",
       "      <td>30.0</td>\n",
       "      <td>M</td>\n",
       "      <td>NaN</td>\n",
       "      <td>Columbus</td>\n",
       "      <td>GA</td>\n",
       "      <td>False</td>\n",
       "      <td>attack</td>\n",
       "      <td>Foot</td>\n",
       "      <td>False</td>\n",
       "      <td>NaN</td>\n",
       "      <td>NaN</td>\n",
       "      <td>True</td>\n",
       "    </tr>\n",
       "  </tbody>\n",
       "</table>\n",
       "</div>"
      ],
      "text/plain": [
       "        id                   name        date manner_of_death        armed  \\\n",
       "7724  7725                    NaN  2022-09-07            shot  screwdriver   \n",
       "7725  7726                    NaN  2022-09-07            shot          gun   \n",
       "7726  7727                    NaN  2022-09-07            shot        knife   \n",
       "7727  7728  Tyler Michael Gardner  2022-09-07            shot          gun   \n",
       "7728  7729  Reginald Lamont Grant  2022-09-07            shot          gun   \n",
       "\n",
       "       age gender race               city state  signs_of_mental_illness  \\\n",
       "7724   NaN      M  NaN          Flagstaff    AZ                    False   \n",
       "7725   NaN      M    W        Springville    AL                    False   \n",
       "7726  61.0      M    B          St. Louis    MO                    False   \n",
       "7727  27.0      M  NaN  Washington County    TN                    False   \n",
       "7728  30.0      M  NaN           Columbus    GA                    False   \n",
       "\n",
       "     threat_level         flee  body_camera  longitude  latitude  \\\n",
       "7724        other         Foot        False   -111.584    35.224   \n",
       "7725       attack          Car        False    -86.472    33.775   \n",
       "7726        other  Not fleeing        False    -90.290    38.668   \n",
       "7727       attack        Other        False    -82.539    36.309   \n",
       "7728       attack         Foot        False        NaN       NaN   \n",
       "\n",
       "      is_geocoding_exact  \n",
       "7724                True  \n",
       "7725                True  \n",
       "7726                True  \n",
       "7727                True  \n",
       "7728                True  "
      ]
     },
     "execution_count": 195,
     "metadata": {},
     "output_type": "execute_result"
    },
    {
     "data": {
      "application/javascript": [
       "\n",
       "            setTimeout(function() {\n",
       "                var nbb_cell_id = 195;\n",
       "                var nbb_unformatted_code = \"# Check if all database was loaded\\n\\ndf_civilians.tail()\";\n",
       "                var nbb_formatted_code = \"# Check if all database was loaded\\n\\ndf_civilians.tail()\";\n",
       "                var nbb_cells = Jupyter.notebook.get_cells();\n",
       "                for (var i = 0; i < nbb_cells.length; ++i) {\n",
       "                    if (nbb_cells[i].input_prompt_number == nbb_cell_id) {\n",
       "                        if (nbb_cells[i].get_text() == nbb_unformatted_code) {\n",
       "                             nbb_cells[i].set_text(nbb_formatted_code);\n",
       "                        }\n",
       "                        break;\n",
       "                    }\n",
       "                }\n",
       "            }, 500);\n",
       "            "
      ],
      "text/plain": [
       "<IPython.core.display.Javascript object>"
      ]
     },
     "metadata": {},
     "output_type": "display_data"
    }
   ],
   "source": [
    "# Check if all database was loaded\n",
    "\n",
    "df_civilians.tail()"
   ]
  },
  {
   "cell_type": "code",
   "execution_count": 196,
   "id": "a2820927",
   "metadata": {},
   "outputs": [
    {
     "data": {
      "text/plain": [
       "pandas.core.frame.DataFrame"
      ]
     },
     "execution_count": 196,
     "metadata": {},
     "output_type": "execute_result"
    },
    {
     "data": {
      "application/javascript": [
       "\n",
       "            setTimeout(function() {\n",
       "                var nbb_cell_id = 196;\n",
       "                var nbb_unformatted_code = \"# Check data type\\n\\ntype(df_civilians)\";\n",
       "                var nbb_formatted_code = \"# Check data type\\n\\ntype(df_civilians)\";\n",
       "                var nbb_cells = Jupyter.notebook.get_cells();\n",
       "                for (var i = 0; i < nbb_cells.length; ++i) {\n",
       "                    if (nbb_cells[i].input_prompt_number == nbb_cell_id) {\n",
       "                        if (nbb_cells[i].get_text() == nbb_unformatted_code) {\n",
       "                             nbb_cells[i].set_text(nbb_formatted_code);\n",
       "                        }\n",
       "                        break;\n",
       "                    }\n",
       "                }\n",
       "            }, 500);\n",
       "            "
      ],
      "text/plain": [
       "<IPython.core.display.Javascript object>"
      ]
     },
     "metadata": {},
     "output_type": "display_data"
    }
   ],
   "source": [
    "# Check data type\n",
    "\n",
    "type(df_civilians)"
   ]
  },
  {
   "cell_type": "code",
   "execution_count": 197,
   "id": "c2d86220",
   "metadata": {},
   "outputs": [
    {
     "data": {
      "text/plain": [
       "id                           int64\n",
       "name                        object\n",
       "date                        object\n",
       "manner_of_death             object\n",
       "armed                       object\n",
       "age                        float64\n",
       "gender                      object\n",
       "race                        object\n",
       "city                        object\n",
       "state                       object\n",
       "signs_of_mental_illness       bool\n",
       "threat_level                object\n",
       "flee                        object\n",
       "body_camera                   bool\n",
       "longitude                  float64\n",
       "latitude                   float64\n",
       "is_geocoding_exact            bool\n",
       "dtype: object"
      ]
     },
     "execution_count": 197,
     "metadata": {},
     "output_type": "execute_result"
    },
    {
     "data": {
      "application/javascript": [
       "\n",
       "            setTimeout(function() {\n",
       "                var nbb_cell_id = 197;\n",
       "                var nbb_unformatted_code = \"# Check DataFrame types\\n\\ndf_civilians.dtypes\";\n",
       "                var nbb_formatted_code = \"# Check DataFrame types\\n\\ndf_civilians.dtypes\";\n",
       "                var nbb_cells = Jupyter.notebook.get_cells();\n",
       "                for (var i = 0; i < nbb_cells.length; ++i) {\n",
       "                    if (nbb_cells[i].input_prompt_number == nbb_cell_id) {\n",
       "                        if (nbb_cells[i].get_text() == nbb_unformatted_code) {\n",
       "                             nbb_cells[i].set_text(nbb_formatted_code);\n",
       "                        }\n",
       "                        break;\n",
       "                    }\n",
       "                }\n",
       "            }, 500);\n",
       "            "
      ],
      "text/plain": [
       "<IPython.core.display.Javascript object>"
      ]
     },
     "metadata": {},
     "output_type": "display_data"
    }
   ],
   "source": [
    "# Check DataFrame types\n",
    "\n",
    "df_civilians.dtypes"
   ]
  },
  {
   "cell_type": "code",
   "execution_count": 198,
   "id": "3f9f4870",
   "metadata": {},
   "outputs": [
    {
     "data": {
      "text/plain": [
       "dtype('O')"
      ]
     },
     "execution_count": 198,
     "metadata": {},
     "output_type": "execute_result"
    },
    {
     "data": {
      "application/javascript": [
       "\n",
       "            setTimeout(function() {\n",
       "                var nbb_cell_id = 198;\n",
       "                var nbb_unformatted_code = \"# Check date type\\n\\ndf_civilians[\\\"date\\\"].dtype\";\n",
       "                var nbb_formatted_code = \"# Check date type\\n\\ndf_civilians[\\\"date\\\"].dtype\";\n",
       "                var nbb_cells = Jupyter.notebook.get_cells();\n",
       "                for (var i = 0; i < nbb_cells.length; ++i) {\n",
       "                    if (nbb_cells[i].input_prompt_number == nbb_cell_id) {\n",
       "                        if (nbb_cells[i].get_text() == nbb_unformatted_code) {\n",
       "                             nbb_cells[i].set_text(nbb_formatted_code);\n",
       "                        }\n",
       "                        break;\n",
       "                    }\n",
       "                }\n",
       "            }, 500);\n",
       "            "
      ],
      "text/plain": [
       "<IPython.core.display.Javascript object>"
      ]
     },
     "metadata": {},
     "output_type": "display_data"
    }
   ],
   "source": [
    "# Check date type\n",
    "\n",
    "df_civilians[\"date\"].dtype"
   ]
  },
  {
   "cell_type": "code",
   "execution_count": 199,
   "id": "e84a8fb9",
   "metadata": {},
   "outputs": [
    {
     "data": {
      "text/plain": [
       "0      2015-01-02\n",
       "1      2015-01-02\n",
       "2      2015-01-03\n",
       "3      2015-01-04\n",
       "4      2015-01-04\n",
       "          ...    \n",
       "7724   2022-09-07\n",
       "7725   2022-09-07\n",
       "7726   2022-09-07\n",
       "7727   2022-09-07\n",
       "7728   2022-09-07\n",
       "Name: date, Length: 7729, dtype: datetime64[ns]"
      ]
     },
     "execution_count": 199,
     "metadata": {},
     "output_type": "execute_result"
    },
    {
     "data": {
      "application/javascript": [
       "\n",
       "            setTimeout(function() {\n",
       "                var nbb_cell_id = 199;\n",
       "                var nbb_unformatted_code = \"# Change date type\\n\\ndf_civilians[\\\"date\\\"] = df_civilians[\\\"date\\\"].astype(\\\"datetime64\\\")\\ndf_civilians[\\\"date\\\"]\";\n",
       "                var nbb_formatted_code = \"# Change date type\\n\\ndf_civilians[\\\"date\\\"] = df_civilians[\\\"date\\\"].astype(\\\"datetime64\\\")\\ndf_civilians[\\\"date\\\"]\";\n",
       "                var nbb_cells = Jupyter.notebook.get_cells();\n",
       "                for (var i = 0; i < nbb_cells.length; ++i) {\n",
       "                    if (nbb_cells[i].input_prompt_number == nbb_cell_id) {\n",
       "                        if (nbb_cells[i].get_text() == nbb_unformatted_code) {\n",
       "                             nbb_cells[i].set_text(nbb_formatted_code);\n",
       "                        }\n",
       "                        break;\n",
       "                    }\n",
       "                }\n",
       "            }, 500);\n",
       "            "
      ],
      "text/plain": [
       "<IPython.core.display.Javascript object>"
      ]
     },
     "metadata": {},
     "output_type": "display_data"
    }
   ],
   "source": [
    "# Change date type\n",
    "\n",
    "df_civilians[\"date\"] = df_civilians[\"date\"].astype(\"datetime64\")\n",
    "df_civilians[\"date\"]"
   ]
  },
  {
   "cell_type": "code",
   "execution_count": 200,
   "id": "a7b82f30",
   "metadata": {},
   "outputs": [
    {
     "data": {
      "text/plain": [
       "0       53\n",
       "1       47\n",
       "2       23\n",
       "3       32\n",
       "4       39\n",
       "        ..\n",
       "7724     0\n",
       "7725     0\n",
       "7726    61\n",
       "7727    27\n",
       "7728    30\n",
       "Name: age, Length: 7729, dtype: int64"
      ]
     },
     "execution_count": 200,
     "metadata": {},
     "output_type": "execute_result"
    },
    {
     "data": {
      "application/javascript": [
       "\n",
       "            setTimeout(function() {\n",
       "                var nbb_cell_id = 200;\n",
       "                var nbb_unformatted_code = \"# Change age type\\n\\ndf_civilians[\\\"age\\\"] = df_civilians[\\\"age\\\"].fillna(0)\\ndf_civilians[\\\"age\\\"] = df_civilians[\\\"age\\\"].astype(int)\\ndf_civilians[\\\"age\\\"]\";\n",
       "                var nbb_formatted_code = \"# Change age type\\n\\ndf_civilians[\\\"age\\\"] = df_civilians[\\\"age\\\"].fillna(0)\\ndf_civilians[\\\"age\\\"] = df_civilians[\\\"age\\\"].astype(int)\\ndf_civilians[\\\"age\\\"]\";\n",
       "                var nbb_cells = Jupyter.notebook.get_cells();\n",
       "                for (var i = 0; i < nbb_cells.length; ++i) {\n",
       "                    if (nbb_cells[i].input_prompt_number == nbb_cell_id) {\n",
       "                        if (nbb_cells[i].get_text() == nbb_unformatted_code) {\n",
       "                             nbb_cells[i].set_text(nbb_formatted_code);\n",
       "                        }\n",
       "                        break;\n",
       "                    }\n",
       "                }\n",
       "            }, 500);\n",
       "            "
      ],
      "text/plain": [
       "<IPython.core.display.Javascript object>"
      ]
     },
     "metadata": {},
     "output_type": "display_data"
    }
   ],
   "source": [
    "# Change age type\n",
    "\n",
    "df_civilians[\"age\"] = df_civilians[\"age\"].fillna(0)\n",
    "df_civilians[\"age\"] = df_civilians[\"age\"].astype(int)\n",
    "df_civilians[\"age\"]"
   ]
  },
  {
   "cell_type": "code",
   "execution_count": 201,
   "id": "a619f9f4",
   "metadata": {},
   "outputs": [
    {
     "data": {
      "text/plain": [
       "0                   shot\n",
       "1                   shot\n",
       "2       shot and tasered\n",
       "3                   shot\n",
       "4                   shot\n",
       "              ...       \n",
       "7724                shot\n",
       "7725                shot\n",
       "7726                shot\n",
       "7727                shot\n",
       "7728                shot\n",
       "Name: manner_of_death, Length: 7729, dtype: object"
      ]
     },
     "execution_count": 201,
     "metadata": {},
     "output_type": "execute_result"
    },
    {
     "data": {
      "application/javascript": [
       "\n",
       "            setTimeout(function() {\n",
       "                var nbb_cell_id = 201;\n",
       "                var nbb_unformatted_code = \"# Replace name of manner of dead\\n\\ndf_civilians[\\\"manner_of_death\\\"] = df_civilians[\\\"manner_of_death\\\"].replace(\\n    \\\"shot and Tasered\\\", \\\"shot and tasered\\\"\\n)\\ndf_civilians[\\\"manner_of_death\\\"]\";\n",
       "                var nbb_formatted_code = \"# Replace name of manner of dead\\n\\ndf_civilians[\\\"manner_of_death\\\"] = df_civilians[\\\"manner_of_death\\\"].replace(\\n    \\\"shot and Tasered\\\", \\\"shot and tasered\\\"\\n)\\ndf_civilians[\\\"manner_of_death\\\"]\";\n",
       "                var nbb_cells = Jupyter.notebook.get_cells();\n",
       "                for (var i = 0; i < nbb_cells.length; ++i) {\n",
       "                    if (nbb_cells[i].input_prompt_number == nbb_cell_id) {\n",
       "                        if (nbb_cells[i].get_text() == nbb_unformatted_code) {\n",
       "                             nbb_cells[i].set_text(nbb_formatted_code);\n",
       "                        }\n",
       "                        break;\n",
       "                    }\n",
       "                }\n",
       "            }, 500);\n",
       "            "
      ],
      "text/plain": [
       "<IPython.core.display.Javascript object>"
      ]
     },
     "metadata": {},
     "output_type": "display_data"
    }
   ],
   "source": [
    "# Replace name of manner of dead\n",
    "\n",
    "df_civilians[\"manner_of_death\"] = df_civilians[\"manner_of_death\"].replace(\n",
    "    \"shot and Tasered\", \"shot and tasered\"\n",
    ")\n",
    "df_civilians[\"manner_of_death\"]"
   ]
  },
  {
   "cell_type": "code",
   "execution_count": 202,
   "id": "28e40dfd",
   "metadata": {},
   "outputs": [
    {
     "data": {
      "text/plain": [
       "id                            0\n",
       "name                        417\n",
       "date                          0\n",
       "manner_of_death               0\n",
       "armed                       209\n",
       "age                           0\n",
       "gender                       20\n",
       "race                       1460\n",
       "city                          0\n",
       "state                         0\n",
       "signs_of_mental_illness       0\n",
       "threat_level                  0\n",
       "flee                        875\n",
       "body_camera                   0\n",
       "longitude                   837\n",
       "latitude                    837\n",
       "is_geocoding_exact            0\n",
       "dtype: int64"
      ]
     },
     "execution_count": 202,
     "metadata": {},
     "output_type": "execute_result"
    },
    {
     "data": {
      "application/javascript": [
       "\n",
       "            setTimeout(function() {\n",
       "                var nbb_cell_id = 202;\n",
       "                var nbb_unformatted_code = \"# Check for NaN\\n\\ndf_civilians.isnull().sum()\";\n",
       "                var nbb_formatted_code = \"# Check for NaN\\n\\ndf_civilians.isnull().sum()\";\n",
       "                var nbb_cells = Jupyter.notebook.get_cells();\n",
       "                for (var i = 0; i < nbb_cells.length; ++i) {\n",
       "                    if (nbb_cells[i].input_prompt_number == nbb_cell_id) {\n",
       "                        if (nbb_cells[i].get_text() == nbb_unformatted_code) {\n",
       "                             nbb_cells[i].set_text(nbb_formatted_code);\n",
       "                        }\n",
       "                        break;\n",
       "                    }\n",
       "                }\n",
       "            }, 500);\n",
       "            "
      ],
      "text/plain": [
       "<IPython.core.display.Javascript object>"
      ]
     },
     "metadata": {},
     "output_type": "display_data"
    }
   ],
   "source": [
    "# Check for NaN\n",
    "\n",
    "df_civilians.isnull().sum()"
   ]
  },
  {
   "cell_type": "code",
   "execution_count": 203,
   "id": "6ffd95e3",
   "metadata": {},
   "outputs": [
    {
     "data": {
      "application/javascript": [
       "\n",
       "            setTimeout(function() {\n",
       "                var nbb_cell_id = 203;\n",
       "                var nbb_unformatted_code = \"# Add new column \\\"year\\\" in df_civilians\\n\\nyear = df_civilians[\\\"date\\\"].dt.year\\n\\ndf_civilians.insert(loc=3, column=\\\"year\\\", value=year)\";\n",
       "                var nbb_formatted_code = \"# Add new column \\\"year\\\" in df_civilians\\n\\nyear = df_civilians[\\\"date\\\"].dt.year\\n\\ndf_civilians.insert(loc=3, column=\\\"year\\\", value=year)\";\n",
       "                var nbb_cells = Jupyter.notebook.get_cells();\n",
       "                for (var i = 0; i < nbb_cells.length; ++i) {\n",
       "                    if (nbb_cells[i].input_prompt_number == nbb_cell_id) {\n",
       "                        if (nbb_cells[i].get_text() == nbb_unformatted_code) {\n",
       "                             nbb_cells[i].set_text(nbb_formatted_code);\n",
       "                        }\n",
       "                        break;\n",
       "                    }\n",
       "                }\n",
       "            }, 500);\n",
       "            "
      ],
      "text/plain": [
       "<IPython.core.display.Javascript object>"
      ]
     },
     "metadata": {},
     "output_type": "display_data"
    }
   ],
   "source": [
    "# Add new column \"year\" in df_civilians\n",
    "\n",
    "year = df_civilians[\"date\"].dt.year\n",
    "\n",
    "df_civilians.insert(loc=3, column=\"year\", value=year)"
   ]
  },
  {
   "cell_type": "code",
   "execution_count": 204,
   "id": "a52911c5",
   "metadata": {},
   "outputs": [
    {
     "data": {
      "application/javascript": [
       "\n",
       "            setTimeout(function() {\n",
       "                var nbb_cell_id = 204;\n",
       "                var nbb_unformatted_code = \"# Add new column \\\"month\\\" in df_civilians\\n\\nmonth = df_civilians[\\\"date\\\"].dt.month\\n\\ndf_civilians.insert(loc=4, column=\\\"month\\\", value=month)\";\n",
       "                var nbb_formatted_code = \"# Add new column \\\"month\\\" in df_civilians\\n\\nmonth = df_civilians[\\\"date\\\"].dt.month\\n\\ndf_civilians.insert(loc=4, column=\\\"month\\\", value=month)\";\n",
       "                var nbb_cells = Jupyter.notebook.get_cells();\n",
       "                for (var i = 0; i < nbb_cells.length; ++i) {\n",
       "                    if (nbb_cells[i].input_prompt_number == nbb_cell_id) {\n",
       "                        if (nbb_cells[i].get_text() == nbb_unformatted_code) {\n",
       "                             nbb_cells[i].set_text(nbb_formatted_code);\n",
       "                        }\n",
       "                        break;\n",
       "                    }\n",
       "                }\n",
       "            }, 500);\n",
       "            "
      ],
      "text/plain": [
       "<IPython.core.display.Javascript object>"
      ]
     },
     "metadata": {},
     "output_type": "display_data"
    }
   ],
   "source": [
    "# Add new column \"month\" in df_civilians\n",
    "\n",
    "month = df_civilians[\"date\"].dt.month\n",
    "\n",
    "df_civilians.insert(loc=4, column=\"month\", value=month)"
   ]
  },
  {
   "cell_type": "code",
   "execution_count": 205,
   "id": "326550a9",
   "metadata": {},
   "outputs": [
    {
     "data": {
      "text/html": [
       "<div>\n",
       "<style scoped>\n",
       "    .dataframe tbody tr th:only-of-type {\n",
       "        vertical-align: middle;\n",
       "    }\n",
       "\n",
       "    .dataframe tbody tr th {\n",
       "        vertical-align: top;\n",
       "    }\n",
       "\n",
       "    .dataframe thead th {\n",
       "        text-align: right;\n",
       "    }\n",
       "</style>\n",
       "<table border=\"1\" class=\"dataframe\">\n",
       "  <thead>\n",
       "    <tr style=\"text-align: right;\">\n",
       "      <th></th>\n",
       "      <th>date</th>\n",
       "      <th>year</th>\n",
       "      <th>month</th>\n",
       "    </tr>\n",
       "  </thead>\n",
       "  <tbody>\n",
       "    <tr>\n",
       "      <th>0</th>\n",
       "      <td>2015-01-02</td>\n",
       "      <td>2015</td>\n",
       "      <td>1</td>\n",
       "    </tr>\n",
       "    <tr>\n",
       "      <th>1</th>\n",
       "      <td>2015-01-02</td>\n",
       "      <td>2015</td>\n",
       "      <td>1</td>\n",
       "    </tr>\n",
       "    <tr>\n",
       "      <th>2</th>\n",
       "      <td>2015-01-03</td>\n",
       "      <td>2015</td>\n",
       "      <td>1</td>\n",
       "    </tr>\n",
       "    <tr>\n",
       "      <th>3</th>\n",
       "      <td>2015-01-04</td>\n",
       "      <td>2015</td>\n",
       "      <td>1</td>\n",
       "    </tr>\n",
       "    <tr>\n",
       "      <th>4</th>\n",
       "      <td>2015-01-04</td>\n",
       "      <td>2015</td>\n",
       "      <td>1</td>\n",
       "    </tr>\n",
       "    <tr>\n",
       "      <th>...</th>\n",
       "      <td>...</td>\n",
       "      <td>...</td>\n",
       "      <td>...</td>\n",
       "    </tr>\n",
       "    <tr>\n",
       "      <th>7724</th>\n",
       "      <td>2022-09-07</td>\n",
       "      <td>2022</td>\n",
       "      <td>9</td>\n",
       "    </tr>\n",
       "    <tr>\n",
       "      <th>7725</th>\n",
       "      <td>2022-09-07</td>\n",
       "      <td>2022</td>\n",
       "      <td>9</td>\n",
       "    </tr>\n",
       "    <tr>\n",
       "      <th>7726</th>\n",
       "      <td>2022-09-07</td>\n",
       "      <td>2022</td>\n",
       "      <td>9</td>\n",
       "    </tr>\n",
       "    <tr>\n",
       "      <th>7727</th>\n",
       "      <td>2022-09-07</td>\n",
       "      <td>2022</td>\n",
       "      <td>9</td>\n",
       "    </tr>\n",
       "    <tr>\n",
       "      <th>7728</th>\n",
       "      <td>2022-09-07</td>\n",
       "      <td>2022</td>\n",
       "      <td>9</td>\n",
       "    </tr>\n",
       "  </tbody>\n",
       "</table>\n",
       "<p>7729 rows × 3 columns</p>\n",
       "</div>"
      ],
      "text/plain": [
       "           date  year  month\n",
       "0    2015-01-02  2015      1\n",
       "1    2015-01-02  2015      1\n",
       "2    2015-01-03  2015      1\n",
       "3    2015-01-04  2015      1\n",
       "4    2015-01-04  2015      1\n",
       "...         ...   ...    ...\n",
       "7724 2022-09-07  2022      9\n",
       "7725 2022-09-07  2022      9\n",
       "7726 2022-09-07  2022      9\n",
       "7727 2022-09-07  2022      9\n",
       "7728 2022-09-07  2022      9\n",
       "\n",
       "[7729 rows x 3 columns]"
      ]
     },
     "execution_count": 205,
     "metadata": {},
     "output_type": "execute_result"
    },
    {
     "data": {
      "application/javascript": [
       "\n",
       "            setTimeout(function() {\n",
       "                var nbb_cell_id = 205;\n",
       "                var nbb_unformatted_code = \"# Check added columns\\n\\ndf_civilians.iloc[:, 2:5]\";\n",
       "                var nbb_formatted_code = \"# Check added columns\\n\\ndf_civilians.iloc[:, 2:5]\";\n",
       "                var nbb_cells = Jupyter.notebook.get_cells();\n",
       "                for (var i = 0; i < nbb_cells.length; ++i) {\n",
       "                    if (nbb_cells[i].input_prompt_number == nbb_cell_id) {\n",
       "                        if (nbb_cells[i].get_text() == nbb_unformatted_code) {\n",
       "                             nbb_cells[i].set_text(nbb_formatted_code);\n",
       "                        }\n",
       "                        break;\n",
       "                    }\n",
       "                }\n",
       "            }, 500);\n",
       "            "
      ],
      "text/plain": [
       "<IPython.core.display.Javascript object>"
      ]
     },
     "metadata": {},
     "output_type": "display_data"
    }
   ],
   "source": [
    "# Check added columns\n",
    "\n",
    "df_civilians.iloc[:, 2:5]"
   ]
  },
  {
   "cell_type": "markdown",
   "id": "492176f6",
   "metadata": {},
   "source": [
    "## GENERAL ANALYSIS"
   ]
  },
  {
   "cell_type": "code",
   "execution_count": 206,
   "id": "f7be7e21",
   "metadata": {},
   "outputs": [
    {
     "data": {
      "text/html": [
       "<div>\n",
       "<style scoped>\n",
       "    .dataframe tbody tr th:only-of-type {\n",
       "        vertical-align: middle;\n",
       "    }\n",
       "\n",
       "    .dataframe tbody tr th {\n",
       "        vertical-align: top;\n",
       "    }\n",
       "\n",
       "    .dataframe thead th {\n",
       "        text-align: right;\n",
       "    }\n",
       "</style>\n",
       "<table border=\"1\" class=\"dataframe\">\n",
       "  <thead>\n",
       "    <tr style=\"text-align: right;\">\n",
       "      <th></th>\n",
       "      <th>name</th>\n",
       "      <th>race</th>\n",
       "      <th>state</th>\n",
       "    </tr>\n",
       "  </thead>\n",
       "  <tbody>\n",
       "    <tr>\n",
       "      <th>0</th>\n",
       "      <td>Tim Elliot</td>\n",
       "      <td>A</td>\n",
       "      <td>WA</td>\n",
       "    </tr>\n",
       "    <tr>\n",
       "      <th>1</th>\n",
       "      <td>Lewis Lee Lembke</td>\n",
       "      <td>W</td>\n",
       "      <td>OR</td>\n",
       "    </tr>\n",
       "    <tr>\n",
       "      <th>2</th>\n",
       "      <td>John Paul Quintero</td>\n",
       "      <td>H</td>\n",
       "      <td>KS</td>\n",
       "    </tr>\n",
       "    <tr>\n",
       "      <th>3</th>\n",
       "      <td>Matthew Hoffman</td>\n",
       "      <td>W</td>\n",
       "      <td>CA</td>\n",
       "    </tr>\n",
       "    <tr>\n",
       "      <th>4</th>\n",
       "      <td>Michael Rodriguez</td>\n",
       "      <td>H</td>\n",
       "      <td>CO</td>\n",
       "    </tr>\n",
       "    <tr>\n",
       "      <th>...</th>\n",
       "      <td>...</td>\n",
       "      <td>...</td>\n",
       "      <td>...</td>\n",
       "    </tr>\n",
       "    <tr>\n",
       "      <th>95</th>\n",
       "      <td>Vincent Cordaro</td>\n",
       "      <td>W</td>\n",
       "      <td>NY</td>\n",
       "    </tr>\n",
       "    <tr>\n",
       "      <th>96</th>\n",
       "      <td>Joseph Paffen</td>\n",
       "      <td>W</td>\n",
       "      <td>FL</td>\n",
       "    </tr>\n",
       "    <tr>\n",
       "      <th>97</th>\n",
       "      <td>Larry Hostetter</td>\n",
       "      <td>W</td>\n",
       "      <td>TX</td>\n",
       "    </tr>\n",
       "    <tr>\n",
       "      <th>98</th>\n",
       "      <td>Kenneth Kreyssig</td>\n",
       "      <td>W</td>\n",
       "      <td>ME</td>\n",
       "    </tr>\n",
       "    <tr>\n",
       "      <th>99</th>\n",
       "      <td>Desmond Luster</td>\n",
       "      <td>B</td>\n",
       "      <td>TX</td>\n",
       "    </tr>\n",
       "  </tbody>\n",
       "</table>\n",
       "<p>100 rows × 3 columns</p>\n",
       "</div>"
      ],
      "text/plain": [
       "                  name race state\n",
       "0           Tim Elliot    A    WA\n",
       "1     Lewis Lee Lembke    W    OR\n",
       "2   John Paul Quintero    H    KS\n",
       "3      Matthew Hoffman    W    CA\n",
       "4    Michael Rodriguez    H    CO\n",
       "..                 ...  ...   ...\n",
       "95     Vincent Cordaro    W    NY\n",
       "96       Joseph Paffen    W    FL\n",
       "97     Larry Hostetter    W    TX\n",
       "98    Kenneth Kreyssig    W    ME\n",
       "99      Desmond Luster    B    TX\n",
       "\n",
       "[100 rows x 3 columns]"
      ]
     },
     "execution_count": 206,
     "metadata": {},
     "output_type": "execute_result"
    },
    {
     "data": {
      "application/javascript": [
       "\n",
       "            setTimeout(function() {\n",
       "                var nbb_cell_id = 206;\n",
       "                var nbb_unformatted_code = \"# Get personal data: name, city, signs of mental ilness of first 100 rows\\n\\ndf_civilians.iloc[:100, [1, 9, 11]]\";\n",
       "                var nbb_formatted_code = \"# Get personal data: name, city, signs of mental ilness of first 100 rows\\n\\ndf_civilians.iloc[:100, [1, 9, 11]]\";\n",
       "                var nbb_cells = Jupyter.notebook.get_cells();\n",
       "                for (var i = 0; i < nbb_cells.length; ++i) {\n",
       "                    if (nbb_cells[i].input_prompt_number == nbb_cell_id) {\n",
       "                        if (nbb_cells[i].get_text() == nbb_unformatted_code) {\n",
       "                             nbb_cells[i].set_text(nbb_formatted_code);\n",
       "                        }\n",
       "                        break;\n",
       "                    }\n",
       "                }\n",
       "            }, 500);\n",
       "            "
      ],
      "text/plain": [
       "<IPython.core.display.Javascript object>"
      ]
     },
     "metadata": {},
     "output_type": "display_data"
    }
   ],
   "source": [
    "# Get personal data: name, city, signs of mental ilness of first 100 rows\n",
    "\n",
    "df_civilians.iloc[:100, [1, 9, 11]]"
   ]
  },
  {
   "cell_type": "code",
   "execution_count": 207,
   "id": "4e161e76",
   "metadata": {},
   "outputs": [
    {
     "data": {
      "text/html": [
       "<div>\n",
       "<style scoped>\n",
       "    .dataframe tbody tr th:only-of-type {\n",
       "        vertical-align: middle;\n",
       "    }\n",
       "\n",
       "    .dataframe tbody tr th {\n",
       "        vertical-align: top;\n",
       "    }\n",
       "\n",
       "    .dataframe thead th {\n",
       "        text-align: right;\n",
       "    }\n",
       "</style>\n",
       "<table border=\"1\" class=\"dataframe\">\n",
       "  <thead>\n",
       "    <tr style=\"text-align: right;\">\n",
       "      <th></th>\n",
       "      <th>year</th>\n",
       "      <th>age</th>\n",
       "      <th>gender</th>\n",
       "      <th>race</th>\n",
       "      <th>state</th>\n",
       "    </tr>\n",
       "  </thead>\n",
       "  <tbody>\n",
       "    <tr>\n",
       "      <th>0</th>\n",
       "      <td>2015</td>\n",
       "      <td>53</td>\n",
       "      <td>M</td>\n",
       "      <td>A</td>\n",
       "      <td>WA</td>\n",
       "    </tr>\n",
       "    <tr>\n",
       "      <th>1</th>\n",
       "      <td>2015</td>\n",
       "      <td>47</td>\n",
       "      <td>M</td>\n",
       "      <td>W</td>\n",
       "      <td>OR</td>\n",
       "    </tr>\n",
       "    <tr>\n",
       "      <th>2</th>\n",
       "      <td>2015</td>\n",
       "      <td>23</td>\n",
       "      <td>M</td>\n",
       "      <td>H</td>\n",
       "      <td>KS</td>\n",
       "    </tr>\n",
       "    <tr>\n",
       "      <th>3</th>\n",
       "      <td>2015</td>\n",
       "      <td>32</td>\n",
       "      <td>M</td>\n",
       "      <td>W</td>\n",
       "      <td>CA</td>\n",
       "    </tr>\n",
       "    <tr>\n",
       "      <th>4</th>\n",
       "      <td>2015</td>\n",
       "      <td>39</td>\n",
       "      <td>M</td>\n",
       "      <td>H</td>\n",
       "      <td>CO</td>\n",
       "    </tr>\n",
       "    <tr>\n",
       "      <th>...</th>\n",
       "      <td>...</td>\n",
       "      <td>...</td>\n",
       "      <td>...</td>\n",
       "      <td>...</td>\n",
       "      <td>...</td>\n",
       "    </tr>\n",
       "    <tr>\n",
       "      <th>95</th>\n",
       "      <td>2015</td>\n",
       "      <td>57</td>\n",
       "      <td>M</td>\n",
       "      <td>W</td>\n",
       "      <td>NY</td>\n",
       "    </tr>\n",
       "    <tr>\n",
       "      <th>96</th>\n",
       "      <td>2015</td>\n",
       "      <td>46</td>\n",
       "      <td>M</td>\n",
       "      <td>W</td>\n",
       "      <td>FL</td>\n",
       "    </tr>\n",
       "    <tr>\n",
       "      <th>97</th>\n",
       "      <td>2015</td>\n",
       "      <td>41</td>\n",
       "      <td>M</td>\n",
       "      <td>W</td>\n",
       "      <td>TX</td>\n",
       "    </tr>\n",
       "    <tr>\n",
       "      <th>98</th>\n",
       "      <td>2015</td>\n",
       "      <td>61</td>\n",
       "      <td>M</td>\n",
       "      <td>W</td>\n",
       "      <td>ME</td>\n",
       "    </tr>\n",
       "    <tr>\n",
       "      <th>99</th>\n",
       "      <td>2015</td>\n",
       "      <td>45</td>\n",
       "      <td>M</td>\n",
       "      <td>B</td>\n",
       "      <td>TX</td>\n",
       "    </tr>\n",
       "  </tbody>\n",
       "</table>\n",
       "<p>100 rows × 5 columns</p>\n",
       "</div>"
      ],
      "text/plain": [
       "    year  age gender race state\n",
       "0   2015   53      M    A    WA\n",
       "1   2015   47      M    W    OR\n",
       "2   2015   23      M    H    KS\n",
       "3   2015   32      M    W    CA\n",
       "4   2015   39      M    H    CO\n",
       "..   ...  ...    ...  ...   ...\n",
       "95  2015   57      M    W    NY\n",
       "96  2015   46      M    W    FL\n",
       "97  2015   41      M    W    TX\n",
       "98  2015   61      M    W    ME\n",
       "99  2015   45      M    B    TX\n",
       "\n",
       "[100 rows x 5 columns]"
      ]
     },
     "execution_count": 207,
     "metadata": {},
     "output_type": "execute_result"
    },
    {
     "data": {
      "application/javascript": [
       "\n",
       "            setTimeout(function() {\n",
       "                var nbb_cell_id = 207;\n",
       "                var nbb_unformatted_code = \"# Get general data: year, age, gender, race and state of first 100 rows\\n\\ndf_civilians.loc[:99, [\\\"year\\\", \\\"age\\\", \\\"gender\\\", \\\"race\\\", \\\"state\\\"]]\";\n",
       "                var nbb_formatted_code = \"# Get general data: year, age, gender, race and state of first 100 rows\\n\\ndf_civilians.loc[:99, [\\\"year\\\", \\\"age\\\", \\\"gender\\\", \\\"race\\\", \\\"state\\\"]]\";\n",
       "                var nbb_cells = Jupyter.notebook.get_cells();\n",
       "                for (var i = 0; i < nbb_cells.length; ++i) {\n",
       "                    if (nbb_cells[i].input_prompt_number == nbb_cell_id) {\n",
       "                        if (nbb_cells[i].get_text() == nbb_unformatted_code) {\n",
       "                             nbb_cells[i].set_text(nbb_formatted_code);\n",
       "                        }\n",
       "                        break;\n",
       "                    }\n",
       "                }\n",
       "            }, 500);\n",
       "            "
      ],
      "text/plain": [
       "<IPython.core.display.Javascript object>"
      ]
     },
     "metadata": {},
     "output_type": "display_data"
    }
   ],
   "source": [
    "# Get general data: year, age, gender, race and state of first 100 rows\n",
    "\n",
    "df_civilians.loc[:99, [\"year\", \"age\", \"gender\", \"race\", \"state\"]]"
   ]
  },
  {
   "cell_type": "code",
   "execution_count": 208,
   "id": "a135050b",
   "metadata": {},
   "outputs": [
    {
     "data": {
      "text/plain": [
       "7729"
      ]
     },
     "execution_count": 208,
     "metadata": {},
     "output_type": "execute_result"
    },
    {
     "data": {
      "application/javascript": [
       "\n",
       "            setTimeout(function() {\n",
       "                var nbb_cell_id = 208;\n",
       "                var nbb_unformatted_code = \"# How many civilians were killed in 2015-2022?\\n\\namount_of_killed = df_civilians[\\\"id\\\"].count()\\namount_of_killed\";\n",
       "                var nbb_formatted_code = \"# How many civilians were killed in 2015-2022?\\n\\namount_of_killed = df_civilians[\\\"id\\\"].count()\\namount_of_killed\";\n",
       "                var nbb_cells = Jupyter.notebook.get_cells();\n",
       "                for (var i = 0; i < nbb_cells.length; ++i) {\n",
       "                    if (nbb_cells[i].input_prompt_number == nbb_cell_id) {\n",
       "                        if (nbb_cells[i].get_text() == nbb_unformatted_code) {\n",
       "                             nbb_cells[i].set_text(nbb_formatted_code);\n",
       "                        }\n",
       "                        break;\n",
       "                    }\n",
       "                }\n",
       "            }, 500);\n",
       "            "
      ],
      "text/plain": [
       "<IPython.core.display.Javascript object>"
      ]
     },
     "metadata": {},
     "output_type": "display_data"
    }
   ],
   "source": [
    "# How many civilians were killed in 2015-2022?\n",
    "\n",
    "amount_of_killed = df_civilians[\"id\"].count()\n",
    "amount_of_killed"
   ]
  },
  {
   "cell_type": "code",
   "execution_count": 209,
   "id": "3dfaf4b1",
   "metadata": {},
   "outputs": [
    {
     "data": {
      "text/plain": [
       "array(['shot', 'shot and tasered'], dtype=object)"
      ]
     },
     "execution_count": 209,
     "metadata": {},
     "output_type": "execute_result"
    },
    {
     "data": {
      "application/javascript": [
       "\n",
       "            setTimeout(function() {\n",
       "                var nbb_cell_id = 209;\n",
       "                var nbb_unformatted_code = \"# What was the manner of death?\\n\\ndf_civilians[\\\"manner_of_death\\\"].unique()\";\n",
       "                var nbb_formatted_code = \"# What was the manner of death?\\n\\ndf_civilians[\\\"manner_of_death\\\"].unique()\";\n",
       "                var nbb_cells = Jupyter.notebook.get_cells();\n",
       "                for (var i = 0; i < nbb_cells.length; ++i) {\n",
       "                    if (nbb_cells[i].input_prompt_number == nbb_cell_id) {\n",
       "                        if (nbb_cells[i].get_text() == nbb_unformatted_code) {\n",
       "                             nbb_cells[i].set_text(nbb_formatted_code);\n",
       "                        }\n",
       "                        break;\n",
       "                    }\n",
       "                }\n",
       "            }, 500);\n",
       "            "
      ],
      "text/plain": [
       "<IPython.core.display.Javascript object>"
      ]
     },
     "metadata": {},
     "output_type": "display_data"
    }
   ],
   "source": [
    "# What was the manner of death?\n",
    "\n",
    "df_civilians[\"manner_of_death\"].unique()"
   ]
  },
  {
   "cell_type": "code",
   "execution_count": 210,
   "id": "2c2b58f6",
   "metadata": {},
   "outputs": [
    {
     "data": {
      "text/plain": [
       "shot                7390\n",
       "shot and tasered     339\n",
       "Name: manner_of_death, dtype: int64"
      ]
     },
     "execution_count": 210,
     "metadata": {},
     "output_type": "execute_result"
    },
    {
     "data": {
      "application/javascript": [
       "\n",
       "            setTimeout(function() {\n",
       "                var nbb_cell_id = 210;\n",
       "                var nbb_unformatted_code = \"# Distribution of manner of death\\n\\ndf_civilians[\\\"manner_of_death\\\"].value_counts()\";\n",
       "                var nbb_formatted_code = \"# Distribution of manner of death\\n\\ndf_civilians[\\\"manner_of_death\\\"].value_counts()\";\n",
       "                var nbb_cells = Jupyter.notebook.get_cells();\n",
       "                for (var i = 0; i < nbb_cells.length; ++i) {\n",
       "                    if (nbb_cells[i].input_prompt_number == nbb_cell_id) {\n",
       "                        if (nbb_cells[i].get_text() == nbb_unformatted_code) {\n",
       "                             nbb_cells[i].set_text(nbb_formatted_code);\n",
       "                        }\n",
       "                        break;\n",
       "                    }\n",
       "                }\n",
       "            }, 500);\n",
       "            "
      ],
      "text/plain": [
       "<IPython.core.display.Javascript object>"
      ]
     },
     "metadata": {},
     "output_type": "display_data"
    }
   ],
   "source": [
    "# Distribution of manner of death\n",
    "\n",
    "df_civilians[\"manner_of_death\"].value_counts()"
   ]
  },
  {
   "cell_type": "code",
   "execution_count": 211,
   "id": "646eed44",
   "metadata": {},
   "outputs": [
    {
     "data": {
      "application/javascript": [
       "\n",
       "            setTimeout(function() {\n",
       "                var nbb_cell_id = 211;\n",
       "                var nbb_unformatted_code = \"# Get seaborn customized for all visualizations\\n\\nsns.set(rc={\\\"figure.figsize\\\": (13, 6)})\";\n",
       "                var nbb_formatted_code = \"# Get seaborn customized for all visualizations\\n\\nsns.set(rc={\\\"figure.figsize\\\": (13, 6)})\";\n",
       "                var nbb_cells = Jupyter.notebook.get_cells();\n",
       "                for (var i = 0; i < nbb_cells.length; ++i) {\n",
       "                    if (nbb_cells[i].input_prompt_number == nbb_cell_id) {\n",
       "                        if (nbb_cells[i].get_text() == nbb_unformatted_code) {\n",
       "                             nbb_cells[i].set_text(nbb_formatted_code);\n",
       "                        }\n",
       "                        break;\n",
       "                    }\n",
       "                }\n",
       "            }, 500);\n",
       "            "
      ],
      "text/plain": [
       "<IPython.core.display.Javascript object>"
      ]
     },
     "metadata": {},
     "output_type": "display_data"
    }
   ],
   "source": [
    "# Get seaborn customized for all visualizations\n",
    "\n",
    "sns.set(rc={\"figure.figsize\": (13, 6)})"
   ]
  },
  {
   "cell_type": "code",
   "execution_count": 212,
   "id": "a5b004b2",
   "metadata": {},
   "outputs": [
    {
     "data": {
      "application/javascript": [
       "\n",
       "            setTimeout(function() {\n",
       "                var nbb_cell_id = 212;\n",
       "                var nbb_unformatted_code = \"sns.set_palette(\\\"Paired\\\")\";\n",
       "                var nbb_formatted_code = \"sns.set_palette(\\\"Paired\\\")\";\n",
       "                var nbb_cells = Jupyter.notebook.get_cells();\n",
       "                for (var i = 0; i < nbb_cells.length; ++i) {\n",
       "                    if (nbb_cells[i].input_prompt_number == nbb_cell_id) {\n",
       "                        if (nbb_cells[i].get_text() == nbb_unformatted_code) {\n",
       "                             nbb_cells[i].set_text(nbb_formatted_code);\n",
       "                        }\n",
       "                        break;\n",
       "                    }\n",
       "                }\n",
       "            }, 500);\n",
       "            "
      ],
      "text/plain": [
       "<IPython.core.display.Javascript object>"
      ]
     },
     "metadata": {},
     "output_type": "display_data"
    }
   ],
   "source": [
    "sns.set_palette(\"Paired\")"
   ]
  },
  {
   "cell_type": "code",
   "execution_count": 213,
   "id": "5918d307",
   "metadata": {},
   "outputs": [
    {
     "data": {
      "text/plain": [
       "<AxesSubplot:xlabel='manner_of_death', ylabel='count'>"
      ]
     },
     "execution_count": 213,
     "metadata": {},
     "output_type": "execute_result"
    },
    {
     "data": {
      "image/png": "[encoded data removed]",
      "text/plain": [
       "<Figure size 936x432 with 1 Axes>"
      ]
     },
     "metadata": {},
     "output_type": "display_data"
    },
    {
     "data": {
      "application/javascript": [
       "\n",
       "            setTimeout(function() {\n",
       "                var nbb_cell_id = 213;\n",
       "                var nbb_unformatted_code = \"# Visualization of manner of death\\n\\nsns.countplot(x=df_civilians[\\\"manner_of_death\\\"])\";\n",
       "                var nbb_formatted_code = \"# Visualization of manner of death\\n\\nsns.countplot(x=df_civilians[\\\"manner_of_death\\\"])\";\n",
       "                var nbb_cells = Jupyter.notebook.get_cells();\n",
       "                for (var i = 0; i < nbb_cells.length; ++i) {\n",
       "                    if (nbb_cells[i].input_prompt_number == nbb_cell_id) {\n",
       "                        if (nbb_cells[i].get_text() == nbb_unformatted_code) {\n",
       "                             nbb_cells[i].set_text(nbb_formatted_code);\n",
       "                        }\n",
       "                        break;\n",
       "                    }\n",
       "                }\n",
       "            }, 500);\n",
       "            "
      ],
      "text/plain": [
       "<IPython.core.display.Javascript object>"
      ]
     },
     "metadata": {},
     "output_type": "display_data"
    }
   ],
   "source": [
    "# Visualization of manner of death\n",
    "\n",
    "sns.countplot(x=df_civilians[\"manner_of_death\"])"
   ]
  },
  {
   "cell_type": "code",
   "execution_count": 214,
   "id": "f452bc62",
   "metadata": {},
   "outputs": [
    {
     "data": {
      "text/plain": [
       "104"
      ]
     },
     "execution_count": 214,
     "metadata": {},
     "output_type": "execute_result"
    },
    {
     "data": {
      "application/javascript": [
       "\n",
       "            setTimeout(function() {\n",
       "                var nbb_cell_id = 214;\n",
       "                var nbb_unformatted_code = \"# Unique weapon\\n\\ndf_civilians[\\\"armed\\\"].nunique()\";\n",
       "                var nbb_formatted_code = \"# Unique weapon\\n\\ndf_civilians[\\\"armed\\\"].nunique()\";\n",
       "                var nbb_cells = Jupyter.notebook.get_cells();\n",
       "                for (var i = 0; i < nbb_cells.length; ++i) {\n",
       "                    if (nbb_cells[i].input_prompt_number == nbb_cell_id) {\n",
       "                        if (nbb_cells[i].get_text() == nbb_unformatted_code) {\n",
       "                             nbb_cells[i].set_text(nbb_formatted_code);\n",
       "                        }\n",
       "                        break;\n",
       "                    }\n",
       "                }\n",
       "            }, 500);\n",
       "            "
      ],
      "text/plain": [
       "<IPython.core.display.Javascript object>"
      ]
     },
     "metadata": {},
     "output_type": "display_data"
    }
   ],
   "source": [
    "# Unique weapon\n",
    "\n",
    "df_civilians[\"armed\"].nunique()"
   ]
  },
  {
   "cell_type": "code",
   "execution_count": 215,
   "id": "13091622",
   "metadata": {},
   "outputs": [
    {
     "data": {
      "text/plain": [
       "array(['gun', 'unarmed', 'toy weapon', 'nail gun', 'knife', nan, 'shovel',\n",
       "       'vehicle', 'hammer', 'hatchet', 'sword', 'machete', 'box cutter',\n",
       "       'undetermined', 'metal object', 'screwdriver', 'lawn mower blade',\n",
       "       'flagpole', 'guns and explosives', 'cordless drill', 'crossbow',\n",
       "       'BB gun', 'metal pole', 'Taser', 'metal pipe', 'metal hand tool',\n",
       "       'blunt object', 'metal stick', 'sharp object', 'meat cleaver',\n",
       "       'carjack', 'chain', \"contractor's level\", 'railroad spikes',\n",
       "       'stapler', 'beer bottle', 'unknown weapon', 'binoculars',\n",
       "       'pellet gun', 'bean-bag gun', 'baseball bat and fireplace poker',\n",
       "       'straight edge razor', 'gun and knife', 'ax', 'brick',\n",
       "       'baseball bat', 'hand torch', 'chain saw', 'garden tool',\n",
       "       'pair of scissors', 'pole', 'pick-axe', 'flashlight', 'baton',\n",
       "       'spear', 'chair', 'pitchfork', 'hatchet and gun', 'rock',\n",
       "       'piece of wood', 'pipe', 'glass shard', 'motorcycle',\n",
       "       'pepper spray', 'metal rake', 'crowbar', 'oar', 'machete and gun',\n",
       "       'tire iron', 'air conditioner', 'pole and knife',\n",
       "       'baseball bat and bottle', 'fireworks', 'pen', 'chainsaw',\n",
       "       'gun and sword', 'gun and car', 'claimed to be armed',\n",
       "       'incendiary device', 'samurai sword', 'bow and arrow',\n",
       "       'gun and vehicle', 'vehicle and gun', 'wrench', 'walking stick',\n",
       "       'barstool', 'BB gun and vehicle', 'wasp spray', 'air pistol',\n",
       "       'Airsoft pistol', 'baseball bat and knife', 'vehicle and machete',\n",
       "       'ice pick', 'car, knife and mace', 'bottle', 'gun and machete',\n",
       "       'microphone', 'knife and vehicle', 'machete and hammer', 'stake',\n",
       "       'incendiary weapon', 'ax and machete', 'hammer and garden tool',\n",
       "       'flare gun', 'knife, hammer and gasoline can'], dtype=object)"
      ]
     },
     "execution_count": 215,
     "metadata": {},
     "output_type": "execute_result"
    },
    {
     "data": {
      "application/javascript": [
       "\n",
       "            setTimeout(function() {\n",
       "                var nbb_cell_id = 215;\n",
       "                var nbb_unformatted_code = \"# Types of weapons\\n\\ndf_civilians[\\\"armed\\\"].unique()\";\n",
       "                var nbb_formatted_code = \"# Types of weapons\\n\\ndf_civilians[\\\"armed\\\"].unique()\";\n",
       "                var nbb_cells = Jupyter.notebook.get_cells();\n",
       "                for (var i = 0; i < nbb_cells.length; ++i) {\n",
       "                    if (nbb_cells[i].input_prompt_number == nbb_cell_id) {\n",
       "                        if (nbb_cells[i].get_text() == nbb_unformatted_code) {\n",
       "                             nbb_cells[i].set_text(nbb_formatted_code);\n",
       "                        }\n",
       "                        break;\n",
       "                    }\n",
       "                }\n",
       "            }, 500);\n",
       "            "
      ],
      "text/plain": [
       "<IPython.core.display.Javascript object>"
      ]
     },
     "metadata": {},
     "output_type": "display_data"
    }
   ],
   "source": [
    "# Types of weapons\n",
    "\n",
    "df_civilians[\"armed\"].unique()"
   ]
  },
  {
   "cell_type": "code",
   "execution_count": 216,
   "id": "2ce6fc62",
   "metadata": {},
   "outputs": [
    {
     "data": {
      "text/plain": [
       "'gun'"
      ]
     },
     "execution_count": 216,
     "metadata": {},
     "output_type": "execute_result"
    },
    {
     "data": {
      "application/javascript": [
       "\n",
       "            setTimeout(function() {\n",
       "                var nbb_cell_id = 216;\n",
       "                var nbb_unformatted_code = \"# The most popular weapon\\n\\ndf_civilians.value_counts(\\\"armed\\\").idxmax()\";\n",
       "                var nbb_formatted_code = \"# The most popular weapon\\n\\ndf_civilians.value_counts(\\\"armed\\\").idxmax()\";\n",
       "                var nbb_cells = Jupyter.notebook.get_cells();\n",
       "                for (var i = 0; i < nbb_cells.length; ++i) {\n",
       "                    if (nbb_cells[i].input_prompt_number == nbb_cell_id) {\n",
       "                        if (nbb_cells[i].get_text() == nbb_unformatted_code) {\n",
       "                             nbb_cells[i].set_text(nbb_formatted_code);\n",
       "                        }\n",
       "                        break;\n",
       "                    }\n",
       "                }\n",
       "            }, 500);\n",
       "            "
      ],
      "text/plain": [
       "<IPython.core.display.Javascript object>"
      ]
     },
     "metadata": {},
     "output_type": "display_data"
    }
   ],
   "source": [
    "# The most popular weapon\n",
    "\n",
    "df_civilians.value_counts(\"armed\").idxmax()"
   ]
  },
  {
   "cell_type": "code",
   "execution_count": 217,
   "id": "8b9b61cd",
   "metadata": {},
   "outputs": [
    {
     "data": {
      "text/plain": [
       "gun             4407\n",
       "knife           1108\n",
       "unarmed          456\n",
       "undetermined     313\n",
       "vehicle          276\n",
       "Name: armed, dtype: int64"
      ]
     },
     "execution_count": 217,
     "metadata": {},
     "output_type": "execute_result"
    },
    {
     "data": {
      "application/javascript": [
       "\n",
       "            setTimeout(function() {\n",
       "                var nbb_cell_id = 217;\n",
       "                var nbb_unformatted_code = \"# Top 5 of weapons\\n\\narmed_top_5 = df_civilians[\\\"armed\\\"].value_counts().head(5)\\narmed_top_5\";\n",
       "                var nbb_formatted_code = \"# Top 5 of weapons\\n\\narmed_top_5 = df_civilians[\\\"armed\\\"].value_counts().head(5)\\narmed_top_5\";\n",
       "                var nbb_cells = Jupyter.notebook.get_cells();\n",
       "                for (var i = 0; i < nbb_cells.length; ++i) {\n",
       "                    if (nbb_cells[i].input_prompt_number == nbb_cell_id) {\n",
       "                        if (nbb_cells[i].get_text() == nbb_unformatted_code) {\n",
       "                             nbb_cells[i].set_text(nbb_formatted_code);\n",
       "                        }\n",
       "                        break;\n",
       "                    }\n",
       "                }\n",
       "            }, 500);\n",
       "            "
      ],
      "text/plain": [
       "<IPython.core.display.Javascript object>"
      ]
     },
     "metadata": {},
     "output_type": "display_data"
    }
   ],
   "source": [
    "# Top 5 of weapons\n",
    "\n",
    "armed_top_5 = df_civilians[\"armed\"].value_counts().head(5)\n",
    "armed_top_5"
   ]
  },
  {
   "cell_type": "code",
   "execution_count": 218,
   "id": "dbadd58b",
   "metadata": {},
   "outputs": [
    {
     "data": {
      "text/plain": [
       "<AxesSubplot:xlabel='armed', ylabel='count'>"
      ]
     },
     "execution_count": 218,
     "metadata": {},
     "output_type": "execute_result"
    },
    {
     "data": {
      "image/png": "[encoded data removed]",
      "text/plain": [
       "<Figure size 936x432 with 1 Axes>"
      ]
     },
     "metadata": {},
     "output_type": "display_data"
    },
    {
     "data": {
      "application/javascript": [
       "\n",
       "            setTimeout(function() {\n",
       "                var nbb_cell_id = 218;\n",
       "                var nbb_unformatted_code = \"# Visualization of top 5 of weapons\\n\\nsns.countplot(\\n    x=df_civilians[\\\"armed\\\"], order=df_civilians[\\\"armed\\\"].value_counts().iloc[:5].index\\n)\";\n",
       "                var nbb_formatted_code = \"# Visualization of top 5 of weapons\\n\\nsns.countplot(\\n    x=df_civilians[\\\"armed\\\"], order=df_civilians[\\\"armed\\\"].value_counts().iloc[:5].index\\n)\";\n",
       "                var nbb_cells = Jupyter.notebook.get_cells();\n",
       "                for (var i = 0; i < nbb_cells.length; ++i) {\n",
       "                    if (nbb_cells[i].input_prompt_number == nbb_cell_id) {\n",
       "                        if (nbb_cells[i].get_text() == nbb_unformatted_code) {\n",
       "                             nbb_cells[i].set_text(nbb_formatted_code);\n",
       "                        }\n",
       "                        break;\n",
       "                    }\n",
       "                }\n",
       "            }, 500);\n",
       "            "
      ],
      "text/plain": [
       "<IPython.core.display.Javascript object>"
      ]
     },
     "metadata": {},
     "output_type": "display_data"
    }
   ],
   "source": [
    "# Visualization of top 5 of weapons\n",
    "\n",
    "sns.countplot(\n",
    "    x=df_civilians[\"armed\"], order=df_civilians[\"armed\"].value_counts().iloc[:5].index\n",
    ")"
   ]
  },
  {
   "cell_type": "code",
   "execution_count": 219,
   "id": "3b453434",
   "metadata": {},
   "outputs": [
    {
     "data": {
      "text/plain": [
       "age\n",
       "0      482\n",
       "31     254\n",
       "32     252\n",
       "27     249\n",
       "34     247\n",
       "      ... \n",
       "89       1\n",
       "2        1\n",
       "78       1\n",
       "8        1\n",
       "92       1\n",
       "Length: 82, dtype: int64"
      ]
     },
     "execution_count": 219,
     "metadata": {},
     "output_type": "execute_result"
    },
    {
     "data": {
      "application/javascript": [
       "\n",
       "            setTimeout(function() {\n",
       "                var nbb_cell_id = 219;\n",
       "                var nbb_unformatted_code = \"# Distribution of age\\n\\ndf_civilians[[\\\"age\\\"]].value_counts()\";\n",
       "                var nbb_formatted_code = \"# Distribution of age\\n\\ndf_civilians[[\\\"age\\\"]].value_counts()\";\n",
       "                var nbb_cells = Jupyter.notebook.get_cells();\n",
       "                for (var i = 0; i < nbb_cells.length; ++i) {\n",
       "                    if (nbb_cells[i].input_prompt_number == nbb_cell_id) {\n",
       "                        if (nbb_cells[i].get_text() == nbb_unformatted_code) {\n",
       "                             nbb_cells[i].set_text(nbb_formatted_code);\n",
       "                        }\n",
       "                        break;\n",
       "                    }\n",
       "                }\n",
       "            }, 500);\n",
       "            "
      ],
      "text/plain": [
       "<IPython.core.display.Javascript object>"
      ]
     },
     "metadata": {},
     "output_type": "display_data"
    }
   ],
   "source": [
    "# Distribution of age\n",
    "\n",
    "df_civilians[[\"age\"]].value_counts()"
   ]
  },
  {
   "cell_type": "code",
   "execution_count": 220,
   "id": "f99005f9",
   "metadata": {},
   "outputs": [
    {
     "data": {
      "text/plain": [
       "31    254\n",
       "32    252\n",
       "27    249\n",
       "34    247\n",
       "33    242\n",
       "Name: age, dtype: int64"
      ]
     },
     "execution_count": 220,
     "metadata": {},
     "output_type": "execute_result"
    },
    {
     "data": {
      "application/javascript": [
       "\n",
       "            setTimeout(function() {\n",
       "                var nbb_cell_id = 220;\n",
       "                var nbb_unformatted_code = \"# Top 5 by age\\n\\nfilter_zero_excl = df_civilians[\\\"age\\\"] != 0\\nage_top_5 = df_civilians[filter_zero_excl][\\\"age\\\"].value_counts().head(5)\\nage_top_5\";\n",
       "                var nbb_formatted_code = \"# Top 5 by age\\n\\nfilter_zero_excl = df_civilians[\\\"age\\\"] != 0\\nage_top_5 = df_civilians[filter_zero_excl][\\\"age\\\"].value_counts().head(5)\\nage_top_5\";\n",
       "                var nbb_cells = Jupyter.notebook.get_cells();\n",
       "                for (var i = 0; i < nbb_cells.length; ++i) {\n",
       "                    if (nbb_cells[i].input_prompt_number == nbb_cell_id) {\n",
       "                        if (nbb_cells[i].get_text() == nbb_unformatted_code) {\n",
       "                             nbb_cells[i].set_text(nbb_formatted_code);\n",
       "                        }\n",
       "                        break;\n",
       "                    }\n",
       "                }\n",
       "            }, 500);\n",
       "            "
      ],
      "text/plain": [
       "<IPython.core.display.Javascript object>"
      ]
     },
     "metadata": {},
     "output_type": "display_data"
    }
   ],
   "source": [
    "# Top 5 by age\n",
    "\n",
    "filter_zero_excl = df_civilians[\"age\"] != 0\n",
    "age_top_5 = df_civilians[filter_zero_excl][\"age\"].value_counts().head(5)\n",
    "age_top_5"
   ]
  },
  {
   "cell_type": "code",
   "execution_count": 221,
   "id": "02de6cbb",
   "metadata": {},
   "outputs": [
    {
     "data": {
      "text/plain": [
       "<AxesSubplot:xlabel='age', ylabel='count'>"
      ]
     },
     "execution_count": 221,
     "metadata": {},
     "output_type": "execute_result"
    },
    {
     "data": {
      "image/png": "[encoded data removed]",
      "text/plain": [
       "<Figure size 936x432 with 1 Axes>"
      ]
     },
     "metadata": {},
     "output_type": "display_data"
    },
    {
     "data": {
      "application/javascript": [
       "\n",
       "            setTimeout(function() {\n",
       "                var nbb_cell_id = 221;\n",
       "                var nbb_unformatted_code = \"# Visualization of top 5 by age\\n\\nsns.countplot(\\n    x=df_civilians[filter_zero_excl][\\\"age\\\"],\\n    order=df_civilians[filter_zero_excl][\\\"age\\\"].value_counts().iloc[:5].index,\\n)\";\n",
       "                var nbb_formatted_code = \"# Visualization of top 5 by age\\n\\nsns.countplot(\\n    x=df_civilians[filter_zero_excl][\\\"age\\\"],\\n    order=df_civilians[filter_zero_excl][\\\"age\\\"].value_counts().iloc[:5].index,\\n)\";\n",
       "                var nbb_cells = Jupyter.notebook.get_cells();\n",
       "                for (var i = 0; i < nbb_cells.length; ++i) {\n",
       "                    if (nbb_cells[i].input_prompt_number == nbb_cell_id) {\n",
       "                        if (nbb_cells[i].get_text() == nbb_unformatted_code) {\n",
       "                             nbb_cells[i].set_text(nbb_formatted_code);\n",
       "                        }\n",
       "                        break;\n",
       "                    }\n",
       "                }\n",
       "            }, 500);\n",
       "            "
      ],
      "text/plain": [
       "<IPython.core.display.Javascript object>"
      ]
     },
     "metadata": {},
     "output_type": "display_data"
    }
   ],
   "source": [
    "# Visualization of top 5 by age\n",
    "\n",
    "sns.countplot(\n",
    "    x=df_civilians[filter_zero_excl][\"age\"],\n",
    "    order=df_civilians[filter_zero_excl][\"age\"].value_counts().iloc[:5].index,\n",
    ")"
   ]
  },
  {
   "cell_type": "code",
   "execution_count": 222,
   "id": "20de41c9",
   "metadata": {},
   "outputs": [
    {
     "data": {
      "text/plain": [
       "34.86039591150214"
      ]
     },
     "execution_count": 222,
     "metadata": {},
     "output_type": "execute_result"
    },
    {
     "data": {
      "application/javascript": [
       "\n",
       "            setTimeout(function() {\n",
       "                var nbb_cell_id = 222;\n",
       "                var nbb_unformatted_code = \"# Average of age\\n\\naverage_age = df_civilians[\\\"age\\\"].mean()\\naverage_age\";\n",
       "                var nbb_formatted_code = \"# Average of age\\n\\naverage_age = df_civilians[\\\"age\\\"].mean()\\naverage_age\";\n",
       "                var nbb_cells = Jupyter.notebook.get_cells();\n",
       "                for (var i = 0; i < nbb_cells.length; ++i) {\n",
       "                    if (nbb_cells[i].input_prompt_number == nbb_cell_id) {\n",
       "                        if (nbb_cells[i].get_text() == nbb_unformatted_code) {\n",
       "                             nbb_cells[i].set_text(nbb_formatted_code);\n",
       "                        }\n",
       "                        break;\n",
       "                    }\n",
       "                }\n",
       "            }, 500);\n",
       "            "
      ],
      "text/plain": [
       "<IPython.core.display.Javascript object>"
      ]
     },
     "metadata": {},
     "output_type": "display_data"
    }
   ],
   "source": [
    "# Average of age\n",
    "\n",
    "average_age = df_civilians[\"age\"].mean()\n",
    "average_age"
   ]
  },
  {
   "cell_type": "code",
   "execution_count": 223,
   "id": "1ac24080",
   "metadata": {},
   "outputs": [
    {
     "data": {
      "text/plain": [
       "92"
      ]
     },
     "execution_count": 223,
     "metadata": {},
     "output_type": "execute_result"
    },
    {
     "data": {
      "application/javascript": [
       "\n",
       "            setTimeout(function() {\n",
       "                var nbb_cell_id = 223;\n",
       "                var nbb_unformatted_code = \"# Oldest person killed\\n\\noldest_person = df_civilians[\\\"age\\\"].max()\\noldest_person\";\n",
       "                var nbb_formatted_code = \"# Oldest person killed\\n\\noldest_person = df_civilians[\\\"age\\\"].max()\\noldest_person\";\n",
       "                var nbb_cells = Jupyter.notebook.get_cells();\n",
       "                for (var i = 0; i < nbb_cells.length; ++i) {\n",
       "                    if (nbb_cells[i].input_prompt_number == nbb_cell_id) {\n",
       "                        if (nbb_cells[i].get_text() == nbb_unformatted_code) {\n",
       "                             nbb_cells[i].set_text(nbb_formatted_code);\n",
       "                        }\n",
       "                        break;\n",
       "                    }\n",
       "                }\n",
       "            }, 500);\n",
       "            "
      ],
      "text/plain": [
       "<IPython.core.display.Javascript object>"
      ]
     },
     "metadata": {},
     "output_type": "display_data"
    }
   ],
   "source": [
    "# Oldest person killed\n",
    "\n",
    "oldest_person = df_civilians[\"age\"].max()\n",
    "oldest_person"
   ]
  },
  {
   "cell_type": "code",
   "execution_count": 224,
   "id": "c1330e7c",
   "metadata": {},
   "outputs": [
    {
     "data": {
      "text/plain": [
       "2"
      ]
     },
     "execution_count": 224,
     "metadata": {},
     "output_type": "execute_result"
    },
    {
     "data": {
      "application/javascript": [
       "\n",
       "            setTimeout(function() {\n",
       "                var nbb_cell_id = 224;\n",
       "                var nbb_unformatted_code = \"# Youngest person killed\\n\\nyoungest_person = df_civilians[filter_zero_excl][\\\"age\\\"].min()\\nyoungest_person\";\n",
       "                var nbb_formatted_code = \"# Youngest person killed\\n\\nyoungest_person = df_civilians[filter_zero_excl][\\\"age\\\"].min()\\nyoungest_person\";\n",
       "                var nbb_cells = Jupyter.notebook.get_cells();\n",
       "                for (var i = 0; i < nbb_cells.length; ++i) {\n",
       "                    if (nbb_cells[i].input_prompt_number == nbb_cell_id) {\n",
       "                        if (nbb_cells[i].get_text() == nbb_unformatted_code) {\n",
       "                             nbb_cells[i].set_text(nbb_formatted_code);\n",
       "                        }\n",
       "                        break;\n",
       "                    }\n",
       "                }\n",
       "            }, 500);\n",
       "            "
      ],
      "text/plain": [
       "<IPython.core.display.Javascript object>"
      ]
     },
     "metadata": {},
     "output_type": "display_data"
    }
   ],
   "source": [
    "# Youngest person killed\n",
    "\n",
    "youngest_person = df_civilians[filter_zero_excl][\"age\"].min()\n",
    "youngest_person"
   ]
  },
  {
   "cell_type": "code",
   "execution_count": 225,
   "id": "93f8a970",
   "metadata": {},
   "outputs": [
    {
     "data": {
      "text/plain": [
       "129"
      ]
     },
     "execution_count": 225,
     "metadata": {},
     "output_type": "execute_result"
    },
    {
     "data": {
      "application/javascript": [
       "\n",
       "            setTimeout(function() {\n",
       "                var nbb_cell_id = 225;\n",
       "                var nbb_unformatted_code = \"# Persons killed under age of 18\\n\\nunder_18 = (df_civilians[filter_zero_excl][\\\"age\\\"] < 18).sum()\\nunder_18\";\n",
       "                var nbb_formatted_code = \"# Persons killed under age of 18\\n\\nunder_18 = (df_civilians[filter_zero_excl][\\\"age\\\"] < 18).sum()\\nunder_18\";\n",
       "                var nbb_cells = Jupyter.notebook.get_cells();\n",
       "                for (var i = 0; i < nbb_cells.length; ++i) {\n",
       "                    if (nbb_cells[i].input_prompt_number == nbb_cell_id) {\n",
       "                        if (nbb_cells[i].get_text() == nbb_unformatted_code) {\n",
       "                             nbb_cells[i].set_text(nbb_formatted_code);\n",
       "                        }\n",
       "                        break;\n",
       "                    }\n",
       "                }\n",
       "            }, 500);\n",
       "            "
      ],
      "text/plain": [
       "<IPython.core.display.Javascript object>"
      ]
     },
     "metadata": {},
     "output_type": "display_data"
    }
   ],
   "source": [
    "# Persons killed under age of 18\n",
    "\n",
    "under_18 = (df_civilians[filter_zero_excl][\"age\"] < 18).sum()\n",
    "under_18"
   ]
  },
  {
   "cell_type": "code",
   "execution_count": 226,
   "id": "e7600d85",
   "metadata": {},
   "outputs": [
    {
     "name": "stderr",
     "output_type": "stream",
     "text": [
      "/var/folders/1t/m94998bs7lg3fw2fs0z_y32r0000gn/T/ipykernel_16421/2294785403.py:4: UserWarning: Boolean Series key will be reindexed to match DataFrame index.\n",
      "  df_civilians[filter_zero_excl][filter_child][\"age\"].value_counts()\n"
     ]
    },
    {
     "data": {
      "text/plain": [
       "17    62\n",
       "16    35\n",
       "15    18\n",
       "14     5\n",
       "13     3\n",
       "6      2\n",
       "12     2\n",
       "8      1\n",
       "2      1\n",
       "Name: age, dtype: int64"
      ]
     },
     "execution_count": 226,
     "metadata": {},
     "output_type": "execute_result"
    },
    {
     "data": {
      "application/javascript": [
       "\n",
       "            setTimeout(function() {\n",
       "                var nbb_cell_id = 226;\n",
       "                var nbb_unformatted_code = \"# Age distribution of children killed\\n\\nfilter_child = df_civilians[\\\"age\\\"] < 18\\ndf_civilians[filter_zero_excl][filter_child][\\\"age\\\"].value_counts()\";\n",
       "                var nbb_formatted_code = \"# Age distribution of children killed\\n\\nfilter_child = df_civilians[\\\"age\\\"] < 18\\ndf_civilians[filter_zero_excl][filter_child][\\\"age\\\"].value_counts()\";\n",
       "                var nbb_cells = Jupyter.notebook.get_cells();\n",
       "                for (var i = 0; i < nbb_cells.length; ++i) {\n",
       "                    if (nbb_cells[i].input_prompt_number == nbb_cell_id) {\n",
       "                        if (nbb_cells[i].get_text() == nbb_unformatted_code) {\n",
       "                             nbb_cells[i].set_text(nbb_formatted_code);\n",
       "                        }\n",
       "                        break;\n",
       "                    }\n",
       "                }\n",
       "            }, 500);\n",
       "            "
      ],
      "text/plain": [
       "<IPython.core.display.Javascript object>"
      ]
     },
     "metadata": {},
     "output_type": "display_data"
    }
   ],
   "source": [
    "# Age distribution of children killed\n",
    "\n",
    "filter_child = df_civilians[\"age\"] < 18\n",
    "df_civilians[filter_zero_excl][filter_child][\"age\"].value_counts()"
   ]
  },
  {
   "cell_type": "code",
   "execution_count": 227,
   "id": "c489b8a2",
   "metadata": {},
   "outputs": [
    {
     "data": {
      "text/plain": [
       "gender\n",
       "M         7361\n",
       "F          348\n",
       "dtype: int64"
      ]
     },
     "execution_count": 227,
     "metadata": {},
     "output_type": "execute_result"
    },
    {
     "data": {
      "application/javascript": [
       "\n",
       "            setTimeout(function() {\n",
       "                var nbb_cell_id = 227;\n",
       "                var nbb_unformatted_code = \"# Allocation between genders\\n\\ndf_civilians[[\\\"gender\\\"]].value_counts()\";\n",
       "                var nbb_formatted_code = \"# Allocation between genders\\n\\ndf_civilians[[\\\"gender\\\"]].value_counts()\";\n",
       "                var nbb_cells = Jupyter.notebook.get_cells();\n",
       "                for (var i = 0; i < nbb_cells.length; ++i) {\n",
       "                    if (nbb_cells[i].input_prompt_number == nbb_cell_id) {\n",
       "                        if (nbb_cells[i].get_text() == nbb_unformatted_code) {\n",
       "                             nbb_cells[i].set_text(nbb_formatted_code);\n",
       "                        }\n",
       "                        break;\n",
       "                    }\n",
       "                }\n",
       "            }, 500);\n",
       "            "
      ],
      "text/plain": [
       "<IPython.core.display.Javascript object>"
      ]
     },
     "metadata": {},
     "output_type": "display_data"
    }
   ],
   "source": [
    "# Allocation between genders\n",
    "\n",
    "df_civilians[[\"gender\"]].value_counts()"
   ]
  },
  {
   "cell_type": "code",
   "execution_count": 228,
   "id": "8cbfa2b8",
   "metadata": {},
   "outputs": [
    {
     "data": {
      "text/plain": [
       "<AxesSubplot:xlabel='gender', ylabel='count'>"
      ]
     },
     "execution_count": 228,
     "metadata": {},
     "output_type": "execute_result"
    },
    {
     "data": {
      "image/png": "[encoded data removed]",
      "text/plain": [
       "<Figure size 936x432 with 1 Axes>"
      ]
     },
     "metadata": {},
     "output_type": "display_data"
    },
    {
     "data": {
      "application/javascript": [
       "\n",
       "            setTimeout(function() {\n",
       "                var nbb_cell_id = 228;\n",
       "                var nbb_unformatted_code = \"# Visualization of gender\\n\\nsns.countplot(x=df_civilians[\\\"gender\\\"])\";\n",
       "                var nbb_formatted_code = \"# Visualization of gender\\n\\nsns.countplot(x=df_civilians[\\\"gender\\\"])\";\n",
       "                var nbb_cells = Jupyter.notebook.get_cells();\n",
       "                for (var i = 0; i < nbb_cells.length; ++i) {\n",
       "                    if (nbb_cells[i].input_prompt_number == nbb_cell_id) {\n",
       "                        if (nbb_cells[i].get_text() == nbb_unformatted_code) {\n",
       "                             nbb_cells[i].set_text(nbb_formatted_code);\n",
       "                        }\n",
       "                        break;\n",
       "                    }\n",
       "                }\n",
       "            }, 500);\n",
       "            "
      ],
      "text/plain": [
       "<IPython.core.display.Javascript object>"
      ]
     },
     "metadata": {},
     "output_type": "display_data"
    }
   ],
   "source": [
    "# Visualization of gender\n",
    "\n",
    "sns.countplot(x=df_civilians[\"gender\"])"
   ]
  },
  {
   "cell_type": "code",
   "execution_count": 229,
   "id": "3f71ef0a",
   "metadata": {},
   "outputs": [
    {
     "data": {
      "text/plain": [
       "race\n",
       "W       3198\n",
       "B       1686\n",
       "H       1128\n",
       "A        113\n",
       "N         97\n",
       "O         47\n",
       "dtype: int64"
      ]
     },
     "execution_count": 229,
     "metadata": {},
     "output_type": "execute_result"
    },
    {
     "data": {
      "application/javascript": [
       "\n",
       "            setTimeout(function() {\n",
       "                var nbb_cell_id = 229;\n",
       "                var nbb_unformatted_code = \"# Allocation within races\\n\\ndf_civilians[[\\\"race\\\"]].value_counts()\";\n",
       "                var nbb_formatted_code = \"# Allocation within races\\n\\ndf_civilians[[\\\"race\\\"]].value_counts()\";\n",
       "                var nbb_cells = Jupyter.notebook.get_cells();\n",
       "                for (var i = 0; i < nbb_cells.length; ++i) {\n",
       "                    if (nbb_cells[i].input_prompt_number == nbb_cell_id) {\n",
       "                        if (nbb_cells[i].get_text() == nbb_unformatted_code) {\n",
       "                             nbb_cells[i].set_text(nbb_formatted_code);\n",
       "                        }\n",
       "                        break;\n",
       "                    }\n",
       "                }\n",
       "            }, 500);\n",
       "            "
      ],
      "text/plain": [
       "<IPython.core.display.Javascript object>"
      ]
     },
     "metadata": {},
     "output_type": "display_data"
    }
   ],
   "source": [
    "# Allocation within races\n",
    "\n",
    "df_civilians[[\"race\"]].value_counts()"
   ]
  },
  {
   "cell_type": "code",
   "execution_count": 230,
   "id": "a453b7ae",
   "metadata": {},
   "outputs": [
    {
     "data": {
      "application/javascript": [
       "\n",
       "            setTimeout(function() {\n",
       "                var nbb_cell_id = 230;\n",
       "                var nbb_unformatted_code = \"# According to publicly available data, there was a mistake in the database Police Shootings\\n# i.e. W was switched with B in column \\\"race\\\"\\n\\ndf_civilians[\\\"race\\\"] = df_civilians[\\\"race\\\"].replace([\\\"W\\\", \\\"B\\\"], [\\\"B\\\", \\\"W\\\"])\";\n",
       "                var nbb_formatted_code = \"# According to publicly available data, there was a mistake in the database Police Shootings\\n# i.e. W was switched with B in column \\\"race\\\"\\n\\ndf_civilians[\\\"race\\\"] = df_civilians[\\\"race\\\"].replace([\\\"W\\\", \\\"B\\\"], [\\\"B\\\", \\\"W\\\"])\";\n",
       "                var nbb_cells = Jupyter.notebook.get_cells();\n",
       "                for (var i = 0; i < nbb_cells.length; ++i) {\n",
       "                    if (nbb_cells[i].input_prompt_number == nbb_cell_id) {\n",
       "                        if (nbb_cells[i].get_text() == nbb_unformatted_code) {\n",
       "                             nbb_cells[i].set_text(nbb_formatted_code);\n",
       "                        }\n",
       "                        break;\n",
       "                    }\n",
       "                }\n",
       "            }, 500);\n",
       "            "
      ],
      "text/plain": [
       "<IPython.core.display.Javascript object>"
      ]
     },
     "metadata": {},
     "output_type": "display_data"
    }
   ],
   "source": [
    "# According to publicly available data, there was a mistake in the database Police Shootings\n",
    "# i.e. W was switched with B in column \"race\"\n",
    "\n",
    "df_civilians[\"race\"] = df_civilians[\"race\"].replace([\"W\", \"B\"], [\"B\", \"W\"])"
   ]
  },
  {
   "cell_type": "code",
   "execution_count": 231,
   "id": "d92f55b3",
   "metadata": {},
   "outputs": [
    {
     "data": {
      "image/png": "[encoded data removed]",
      "text/plain": [
       "<Figure size 936x432 with 1 Axes>"
      ]
     },
     "metadata": {},
     "output_type": "display_data"
    },
    {
     "data": {
      "application/javascript": [
       "\n",
       "            setTimeout(function() {\n",
       "                var nbb_cell_id = 231;\n",
       "                var nbb_unformatted_code = \"# Visualization of races\\n\\nraces_visual = sns.countplot(x=\\\"race\\\", data=df_civilians, hue=\\\"race\\\", dodge=False)\\nraces_visual.set(xlabel=\\\"Race\\\", ylabel=\\\"Total Amount of Persons\\\")\\nh, l = races_visual.get_legend_handles_labels()\\nlabels = [\\n    \\\"A - Native American\\\",\\n    \\\"B - African Amrican\\\",\\n    \\\"H - Hispanic\\\",\\n    \\\"W - White\\\",\\n    \\\"O - Not Hispanic\\\",\\n    \\\"N - Unknown\\\",\\n]\\nraces_visual.legend(h, labels, title=\\\"RACES\\\", loc=\\\"upper right\\\")\\nplt.show()\";\n",
       "                var nbb_formatted_code = \"# Visualization of races\\n\\nraces_visual = sns.countplot(x=\\\"race\\\", data=df_civilians, hue=\\\"race\\\", dodge=False)\\nraces_visual.set(xlabel=\\\"Race\\\", ylabel=\\\"Total Amount of Persons\\\")\\nh, l = races_visual.get_legend_handles_labels()\\nlabels = [\\n    \\\"A - Native American\\\",\\n    \\\"B - African Amrican\\\",\\n    \\\"H - Hispanic\\\",\\n    \\\"W - White\\\",\\n    \\\"O - Not Hispanic\\\",\\n    \\\"N - Unknown\\\",\\n]\\nraces_visual.legend(h, labels, title=\\\"RACES\\\", loc=\\\"upper right\\\")\\nplt.show()\";\n",
       "                var nbb_cells = Jupyter.notebook.get_cells();\n",
       "                for (var i = 0; i < nbb_cells.length; ++i) {\n",
       "                    if (nbb_cells[i].input_prompt_number == nbb_cell_id) {\n",
       "                        if (nbb_cells[i].get_text() == nbb_unformatted_code) {\n",
       "                             nbb_cells[i].set_text(nbb_formatted_code);\n",
       "                        }\n",
       "                        break;\n",
       "                    }\n",
       "                }\n",
       "            }, 500);\n",
       "            "
      ],
      "text/plain": [
       "<IPython.core.display.Javascript object>"
      ]
     },
     "metadata": {},
     "output_type": "display_data"
    }
   ],
   "source": [
    "# Visualization of races\n",
    "\n",
    "races_visual = sns.countplot(x=\"race\", data=df_civilians, hue=\"race\", dodge=False)\n",
    "races_visual.set(xlabel=\"Race\", ylabel=\"Total Amount of Persons\")\n",
    "h, l = races_visual.get_legend_handles_labels()\n",
    "labels = [\n",
    "    \"A - Native American\",\n",
    "    \"B - African Amrican\",\n",
    "    \"H - Hispanic\",\n",
    "    \"W - White\",\n",
    "    \"O - Not Hispanic\",\n",
    "    \"N - Unknown\",\n",
    "]\n",
    "races_visual.legend(h, labels, title=\"RACES\", loc=\"upper right\")\n",
    "plt.show()"
   ]
  },
  {
   "cell_type": "code",
   "execution_count": 232,
   "id": "711d7a12",
   "metadata": {},
   "outputs": [
    {
     "data": {
      "text/plain": [
       "city       \n",
       "Los Angeles    128\n",
       "Phoenix        101\n",
       "Houston         87\n",
       "San Antonio     66\n",
       "Las Vegas       63\n",
       "dtype: int64"
      ]
     },
     "execution_count": 232,
     "metadata": {},
     "output_type": "execute_result"
    },
    {
     "data": {
      "application/javascript": [
       "\n",
       "            setTimeout(function() {\n",
       "                var nbb_cell_id = 232;\n",
       "                var nbb_unformatted_code = \"# Top 5 cities\\n\\ndf_civilians[[\\\"city\\\"]].value_counts().head(5)\";\n",
       "                var nbb_formatted_code = \"# Top 5 cities\\n\\ndf_civilians[[\\\"city\\\"]].value_counts().head(5)\";\n",
       "                var nbb_cells = Jupyter.notebook.get_cells();\n",
       "                for (var i = 0; i < nbb_cells.length; ++i) {\n",
       "                    if (nbb_cells[i].input_prompt_number == nbb_cell_id) {\n",
       "                        if (nbb_cells[i].get_text() == nbb_unformatted_code) {\n",
       "                             nbb_cells[i].set_text(nbb_formatted_code);\n",
       "                        }\n",
       "                        break;\n",
       "                    }\n",
       "                }\n",
       "            }, 500);\n",
       "            "
      ],
      "text/plain": [
       "<IPython.core.display.Javascript object>"
      ]
     },
     "metadata": {},
     "output_type": "display_data"
    }
   ],
   "source": [
    "# Top 5 cities\n",
    "\n",
    "df_civilians[[\"city\"]].value_counts().head(5)"
   ]
  },
  {
   "cell_type": "code",
   "execution_count": 271,
   "id": "e7d14a84",
   "metadata": {},
   "outputs": [
    {
     "data": {
      "text/plain": [
       "Strongs Prairie    1\n",
       "Name: city, dtype: int64"
      ]
     },
     "execution_count": 271,
     "metadata": {},
     "output_type": "execute_result"
    },
    {
     "data": {
      "application/javascript": [
       "\n",
       "            setTimeout(function() {\n",
       "                var nbb_cell_id = 271;\n",
       "                var nbb_unformatted_code = \"# Safest city in accrodance with Police Shooting database\\n\\ndf_civilians[\\\"city\\\"].value_counts().tail(1)\\n\\n# city not identified, possible Kansas city\";\n",
       "                var nbb_formatted_code = \"# Safest city in accrodance with Police Shooting database\\n\\ndf_civilians[\\\"city\\\"].value_counts().tail(1)\\n\\n# city not identified, possible Kansas city\";\n",
       "                var nbb_cells = Jupyter.notebook.get_cells();\n",
       "                for (var i = 0; i < nbb_cells.length; ++i) {\n",
       "                    if (nbb_cells[i].input_prompt_number == nbb_cell_id) {\n",
       "                        if (nbb_cells[i].get_text() == nbb_unformatted_code) {\n",
       "                             nbb_cells[i].set_text(nbb_formatted_code);\n",
       "                        }\n",
       "                        break;\n",
       "                    }\n",
       "                }\n",
       "            }, 500);\n",
       "            "
      ],
      "text/plain": [
       "<IPython.core.display.Javascript object>"
      ]
     },
     "metadata": {},
     "output_type": "display_data"
    }
   ],
   "source": [
    "# Safest city in accrodance with Police Shooting database\n",
    "\n",
    "df_civilians[\"city\"].value_counts().tail(1)\n",
    "\n",
    "# in Wisconsin"
   ]
  },
  {
   "cell_type": "code",
   "execution_count": 234,
   "id": "2fb9a6cd",
   "metadata": {},
   "outputs": [
    {
     "data": {
      "text/plain": [
       "state\n",
       "CA       1114\n",
       "TX        694\n",
       "FL        494\n",
       "AZ        351\n",
       "GA        291\n",
       "dtype: int64"
      ]
     },
     "execution_count": 234,
     "metadata": {},
     "output_type": "execute_result"
    },
    {
     "data": {
      "application/javascript": [
       "\n",
       "            setTimeout(function() {\n",
       "                var nbb_cell_id = 234;\n",
       "                var nbb_unformatted_code = \"# Top 5 cities\\n\\ntop_5_states = df_civilians[[\\\"state\\\"]].value_counts().head(5)\\ntop_5_states\";\n",
       "                var nbb_formatted_code = \"# Top 5 cities\\n\\ntop_5_states = df_civilians[[\\\"state\\\"]].value_counts().head(5)\\ntop_5_states\";\n",
       "                var nbb_cells = Jupyter.notebook.get_cells();\n",
       "                for (var i = 0; i < nbb_cells.length; ++i) {\n",
       "                    if (nbb_cells[i].input_prompt_number == nbb_cell_id) {\n",
       "                        if (nbb_cells[i].get_text() == nbb_unformatted_code) {\n",
       "                             nbb_cells[i].set_text(nbb_formatted_code);\n",
       "                        }\n",
       "                        break;\n",
       "                    }\n",
       "                }\n",
       "            }, 500);\n",
       "            "
      ],
      "text/plain": [
       "<IPython.core.display.Javascript object>"
      ]
     },
     "metadata": {},
     "output_type": "display_data"
    }
   ],
   "source": [
    "# Top 5 states\n",
    "\n",
    "top_5_states = df_civilians[[\"state\"]].value_counts().head(5)\n",
    "top_5_states"
   ]
  },
  {
   "cell_type": "code",
   "execution_count": 235,
   "id": "59c95ba8",
   "metadata": {},
   "outputs": [
    {
     "data": {
      "text/plain": [
       "<matplotlib.legend.Legend at 0x7fd3e4160430>"
      ]
     },
     "execution_count": 235,
     "metadata": {},
     "output_type": "execute_result"
    },
    {
     "data": {
      "image/png": "[encoded data removed]",
      "text/plain": [
       "<Figure size 936x432 with 1 Axes>"
      ]
     },
     "metadata": {},
     "output_type": "display_data"
    },
    {
     "data": {
      "application/javascript": [
       "\n",
       "            setTimeout(function() {\n",
       "                var nbb_cell_id = 235;\n",
       "                var nbb_unformatted_code = \"# Visualization of top 5 States\\n\\norder_limit = df_civilians[\\\"state\\\"].value_counts().iloc[:5].index\\nstates_visual = sns.countplot(\\n    data=df_civilians,\\n    y=\\\"state\\\",\\n    hue=\\\"state\\\",\\n    dodge=False,\\n    hue_order=order_limit,\\n    order=order_limit,\\n)\\nstates_visual.set(ylabel=\\\"State\\\", xlabel=\\\"Total Amount of Persons killed\\\")\\nh, l = races_visual.get_legend_handles_labels()\\nlabels = [\\n    \\\"CA - California\\\",\\n    \\\"TX - Texas\\\",\\n    \\\"FL - Florida\\\",\\n    \\\"AZ - Arizona\\\",\\n    \\\"GA = Georgia\\\",\\n]\\nstates_visual.legend(h, labels, title=\\\"STATES\\\")\";\n",
       "                var nbb_formatted_code = \"# Visualization of top 5 States\\n\\norder_limit = df_civilians[\\\"state\\\"].value_counts().iloc[:5].index\\nstates_visual = sns.countplot(\\n    data=df_civilians,\\n    y=\\\"state\\\",\\n    hue=\\\"state\\\",\\n    dodge=False,\\n    hue_order=order_limit,\\n    order=order_limit,\\n)\\nstates_visual.set(ylabel=\\\"State\\\", xlabel=\\\"Total Amount of Persons killed\\\")\\nh, l = races_visual.get_legend_handles_labels()\\nlabels = [\\n    \\\"CA - California\\\",\\n    \\\"TX - Texas\\\",\\n    \\\"FL - Florida\\\",\\n    \\\"AZ - Arizona\\\",\\n    \\\"GA = Georgia\\\",\\n]\\nstates_visual.legend(h, labels, title=\\\"STATES\\\")\";\n",
       "                var nbb_cells = Jupyter.notebook.get_cells();\n",
       "                for (var i = 0; i < nbb_cells.length; ++i) {\n",
       "                    if (nbb_cells[i].input_prompt_number == nbb_cell_id) {\n",
       "                        if (nbb_cells[i].get_text() == nbb_unformatted_code) {\n",
       "                             nbb_cells[i].set_text(nbb_formatted_code);\n",
       "                        }\n",
       "                        break;\n",
       "                    }\n",
       "                }\n",
       "            }, 500);\n",
       "            "
      ],
      "text/plain": [
       "<IPython.core.display.Javascript object>"
      ]
     },
     "metadata": {},
     "output_type": "display_data"
    }
   ],
   "source": [
    "# Visualization of top 5 States\n",
    "\n",
    "order_limit = df_civilians[\"state\"].value_counts().iloc[:5].index\n",
    "states_visual = sns.countplot(\n",
    "    data=df_civilians,\n",
    "    y=\"state\",\n",
    "    hue=\"state\",\n",
    "    dodge=False,\n",
    "    hue_order=order_limit,\n",
    "    order=order_limit,\n",
    ")\n",
    "states_visual.set(ylabel=\"State\", xlabel=\"Total Amount of Persons killed\")\n",
    "h, l = races_visual.get_legend_handles_labels()\n",
    "labels = [\n",
    "    \"CA - California\",\n",
    "    \"TX - Texas\",\n",
    "    \"FL - Florida\",\n",
    "    \"AZ - Arizona\",\n",
    "    \"GA = Georgia\",\n",
    "]\n",
    "states_visual.legend(h, labels, title=\"STATES\")"
   ]
  },
  {
   "cell_type": "code",
   "execution_count": 236,
   "id": "c920ed9a",
   "metadata": {},
   "outputs": [
    {
     "data": {
      "text/plain": [
       "RI    6\n",
       "Name: state, dtype: int64"
      ]
     },
     "execution_count": 236,
     "metadata": {},
     "output_type": "execute_result"
    },
    {
     "data": {
      "application/javascript": [
       "\n",
       "            setTimeout(function() {\n",
       "                var nbb_cell_id = 236;\n",
       "                var nbb_unformatted_code = \"# Safest State in accrodance with Police Shooting database\\n\\ndf_civilians[\\\"state\\\"].value_counts().tail(1)\\n# RI - Rhode Island\";\n",
       "                var nbb_formatted_code = \"# Safest State in accrodance with Police Shooting database\\n\\ndf_civilians[\\\"state\\\"].value_counts().tail(1)\\n# RI - Rhode Island\";\n",
       "                var nbb_cells = Jupyter.notebook.get_cells();\n",
       "                for (var i = 0; i < nbb_cells.length; ++i) {\n",
       "                    if (nbb_cells[i].input_prompt_number == nbb_cell_id) {\n",
       "                        if (nbb_cells[i].get_text() == nbb_unformatted_code) {\n",
       "                             nbb_cells[i].set_text(nbb_formatted_code);\n",
       "                        }\n",
       "                        break;\n",
       "                    }\n",
       "                }\n",
       "            }, 500);\n",
       "            "
      ],
      "text/plain": [
       "<IPython.core.display.Javascript object>"
      ]
     },
     "metadata": {},
     "output_type": "display_data"
    }
   ],
   "source": [
    "# Safest State in accrodance with Police Shooting database\n",
    "\n",
    "df_civilians[\"state\"].value_counts().tail(1)\n",
    "# RI - Rhode Island"
   ]
  },
  {
   "cell_type": "code",
   "execution_count": 237,
   "id": "6350b077",
   "metadata": {},
   "outputs": [
    {
     "data": {
      "text/plain": [
       "1640"
      ]
     },
     "execution_count": 237,
     "metadata": {},
     "output_type": "execute_result"
    },
    {
     "data": {
      "application/javascript": [
       "\n",
       "            setTimeout(function() {\n",
       "                var nbb_cell_id = 237;\n",
       "                var nbb_unformatted_code = \"# How many persons showed signs of mental illness?\\n\\nfilter_having_mental = df_civilians[\\\"signs_of_mental_illness\\\"] == True\\ndf_civilians[filter_having_mental][\\\"signs_of_mental_illness\\\"].count()\";\n",
       "                var nbb_formatted_code = \"# How many persons showed signs of mental illness?\\n\\nfilter_having_mental = df_civilians[\\\"signs_of_mental_illness\\\"] == True\\ndf_civilians[filter_having_mental][\\\"signs_of_mental_illness\\\"].count()\";\n",
       "                var nbb_cells = Jupyter.notebook.get_cells();\n",
       "                for (var i = 0; i < nbb_cells.length; ++i) {\n",
       "                    if (nbb_cells[i].input_prompt_number == nbb_cell_id) {\n",
       "                        if (nbb_cells[i].get_text() == nbb_unformatted_code) {\n",
       "                             nbb_cells[i].set_text(nbb_formatted_code);\n",
       "                        }\n",
       "                        break;\n",
       "                    }\n",
       "                }\n",
       "            }, 500);\n",
       "            "
      ],
      "text/plain": [
       "<IPython.core.display.Javascript object>"
      ]
     },
     "metadata": {},
     "output_type": "display_data"
    }
   ],
   "source": [
    "# How many persons showed signs of mental illness?\n",
    "\n",
    "filter_having_mental = df_civilians[\"signs_of_mental_illness\"] == True\n",
    "df_civilians[filter_having_mental][\"signs_of_mental_illness\"].count()"
   ]
  },
  {
   "cell_type": "code",
   "execution_count": 238,
   "id": "1a000996",
   "metadata": {},
   "outputs": [
    {
     "data": {
      "text/plain": [
       "[Text(0, 0.5, 'Was there any sign of mental illness?'),\n",
       " Text(0.5, 0, 'Total Amount of Persons')]"
      ]
     },
     "execution_count": 238,
     "metadata": {},
     "output_type": "execute_result"
    },
    {
     "data": {
      "image/png": "[encoded data removed]",
      "text/plain": [
       "<Figure size 936x432 with 1 Axes>"
      ]
     },
     "metadata": {},
     "output_type": "display_data"
    },
    {
     "data": {
      "application/javascript": [
       "\n",
       "            setTimeout(function() {\n",
       "                var nbb_cell_id = 238;\n",
       "                var nbb_unformatted_code = \"# Visualization of signs of mental illness\\n\\nillness_visual = sns.countplot(y=df_civilians[\\\"signs_of_mental_illness\\\"])\\nillness_visual.set(\\n    ylabel=\\\"Was there any sign of mental illness?\\\", xlabel=\\\"Total Amount of Persons\\\"\\n)\";\n",
       "                var nbb_formatted_code = \"# Visualization of signs of mental illness\\n\\nillness_visual = sns.countplot(y=df_civilians[\\\"signs_of_mental_illness\\\"])\\nillness_visual.set(\\n    ylabel=\\\"Was there any sign of mental illness?\\\", xlabel=\\\"Total Amount of Persons\\\"\\n)\";\n",
       "                var nbb_cells = Jupyter.notebook.get_cells();\n",
       "                for (var i = 0; i < nbb_cells.length; ++i) {\n",
       "                    if (nbb_cells[i].input_prompt_number == nbb_cell_id) {\n",
       "                        if (nbb_cells[i].get_text() == nbb_unformatted_code) {\n",
       "                             nbb_cells[i].set_text(nbb_formatted_code);\n",
       "                        }\n",
       "                        break;\n",
       "                    }\n",
       "                }\n",
       "            }, 500);\n",
       "            "
      ],
      "text/plain": [
       "<IPython.core.display.Javascript object>"
      ]
     },
     "metadata": {},
     "output_type": "display_data"
    }
   ],
   "source": [
    "# Visualization of signs of mental illness\n",
    "\n",
    "illness_visual = sns.countplot(y=df_civilians[\"signs_of_mental_illness\"])\n",
    "illness_visual.set(\n",
    "    ylabel=\"Was there any sign of mental illness?\", xlabel=\"Total Amount of Persons\"\n",
    ")"
   ]
  },
  {
   "cell_type": "code",
   "execution_count": 239,
   "id": "94b2134f",
   "metadata": {},
   "outputs": [
    {
     "data": {
      "text/plain": [
       "threat_level\n",
       "attack          4875\n",
       "other           2552\n",
       "undetermined     302\n",
       "dtype: int64"
      ]
     },
     "execution_count": 239,
     "metadata": {},
     "output_type": "execute_result"
    },
    {
     "data": {
      "application/javascript": [
       "\n",
       "            setTimeout(function() {\n",
       "                var nbb_cell_id = 239;\n",
       "                var nbb_unformatted_code = \"# Types of threat\\n\\ndf_civilians[[\\\"threat_level\\\"]].value_counts()\";\n",
       "                var nbb_formatted_code = \"# Types of threat\\n\\ndf_civilians[[\\\"threat_level\\\"]].value_counts()\";\n",
       "                var nbb_cells = Jupyter.notebook.get_cells();\n",
       "                for (var i = 0; i < nbb_cells.length; ++i) {\n",
       "                    if (nbb_cells[i].input_prompt_number == nbb_cell_id) {\n",
       "                        if (nbb_cells[i].get_text() == nbb_unformatted_code) {\n",
       "                             nbb_cells[i].set_text(nbb_formatted_code);\n",
       "                        }\n",
       "                        break;\n",
       "                    }\n",
       "                }\n",
       "            }, 500);\n",
       "            "
      ],
      "text/plain": [
       "<IPython.core.display.Javascript object>"
      ]
     },
     "metadata": {},
     "output_type": "display_data"
    }
   ],
   "source": [
    "# Types of threat\n",
    "\n",
    "df_civilians[[\"threat_level\"]].value_counts()"
   ]
  },
  {
   "cell_type": "code",
   "execution_count": 240,
   "id": "95fadefa",
   "metadata": {},
   "outputs": [
    {
     "data": {
      "text/html": [
       "<div>\n",
       "<style scoped>\n",
       "    .dataframe tbody tr th:only-of-type {\n",
       "        vertical-align: middle;\n",
       "    }\n",
       "\n",
       "    .dataframe tbody tr th {\n",
       "        vertical-align: top;\n",
       "    }\n",
       "\n",
       "    .dataframe thead th {\n",
       "        text-align: right;\n",
       "    }\n",
       "</style>\n",
       "<table border=\"1\" class=\"dataframe\">\n",
       "  <thead>\n",
       "    <tr style=\"text-align: right;\">\n",
       "      <th></th>\n",
       "      <th>flee</th>\n",
       "    </tr>\n",
       "    <tr>\n",
       "      <th>flee</th>\n",
       "      <th></th>\n",
       "    </tr>\n",
       "  </thead>\n",
       "  <tbody>\n",
       "    <tr>\n",
       "      <th>Car</th>\n",
       "      <td>1249</td>\n",
       "    </tr>\n",
       "    <tr>\n",
       "      <th>Foot</th>\n",
       "      <td>982</td>\n",
       "    </tr>\n",
       "    <tr>\n",
       "      <th>Not fleeing</th>\n",
       "      <td>4336</td>\n",
       "    </tr>\n",
       "    <tr>\n",
       "      <th>Other</th>\n",
       "      <td>287</td>\n",
       "    </tr>\n",
       "  </tbody>\n",
       "</table>\n",
       "</div>"
      ],
      "text/plain": [
       "             flee\n",
       "flee             \n",
       "Car          1249\n",
       "Foot          982\n",
       "Not fleeing  4336\n",
       "Other         287"
      ]
     },
     "execution_count": 240,
     "metadata": {},
     "output_type": "execute_result"
    },
    {
     "data": {
      "application/javascript": [
       "\n",
       "            setTimeout(function() {\n",
       "                var nbb_cell_id = 240;\n",
       "                var nbb_unformatted_code = \"# Types of flee\\n\\ndf_civilians.groupby([\\\"flee\\\"])[[\\\"flee\\\"]].count()\";\n",
       "                var nbb_formatted_code = \"# Types of flee\\n\\ndf_civilians.groupby([\\\"flee\\\"])[[\\\"flee\\\"]].count()\";\n",
       "                var nbb_cells = Jupyter.notebook.get_cells();\n",
       "                for (var i = 0; i < nbb_cells.length; ++i) {\n",
       "                    if (nbb_cells[i].input_prompt_number == nbb_cell_id) {\n",
       "                        if (nbb_cells[i].get_text() == nbb_unformatted_code) {\n",
       "                             nbb_cells[i].set_text(nbb_formatted_code);\n",
       "                        }\n",
       "                        break;\n",
       "                    }\n",
       "                }\n",
       "            }, 500);\n",
       "            "
      ],
      "text/plain": [
       "<IPython.core.display.Javascript object>"
      ]
     },
     "metadata": {},
     "output_type": "display_data"
    }
   ],
   "source": [
    "# Types of flee\n",
    "\n",
    "df_civilians.groupby([\"flee\"])[[\"flee\"]].count()"
   ]
  },
  {
   "cell_type": "code",
   "execution_count": 241,
   "id": "741e9bcd",
   "metadata": {},
   "outputs": [
    {
     "data": {
      "text/plain": [
       "[Text(0, 0.5, 'Type of Flee'), Text(0.5, 0, 'Total Amount of Persons')]"
      ]
     },
     "execution_count": 241,
     "metadata": {},
     "output_type": "execute_result"
    },
    {
     "data": {
      "image/png": "[encoded data removed]",
      "text/plain": [
       "<Figure size 936x432 with 1 Axes>"
      ]
     },
     "metadata": {},
     "output_type": "display_data"
    },
    {
     "data": {
      "application/javascript": [
       "\n",
       "            setTimeout(function() {\n",
       "                var nbb_cell_id = 241;\n",
       "                var nbb_unformatted_code = \"# Visualization of signs of mental illness\\n\\nflee_visual = sns.countplot(y=df_civilians[\\\"flee\\\"])\\nflee_visual.set(ylabel=\\\"Type of Flee\\\", xlabel=\\\"Total Amount of Persons\\\")\";\n",
       "                var nbb_formatted_code = \"# Visualization of signs of mental illness\\n\\nflee_visual = sns.countplot(y=df_civilians[\\\"flee\\\"])\\nflee_visual.set(ylabel=\\\"Type of Flee\\\", xlabel=\\\"Total Amount of Persons\\\")\";\n",
       "                var nbb_cells = Jupyter.notebook.get_cells();\n",
       "                for (var i = 0; i < nbb_cells.length; ++i) {\n",
       "                    if (nbb_cells[i].input_prompt_number == nbb_cell_id) {\n",
       "                        if (nbb_cells[i].get_text() == nbb_unformatted_code) {\n",
       "                             nbb_cells[i].set_text(nbb_formatted_code);\n",
       "                        }\n",
       "                        break;\n",
       "                    }\n",
       "                }\n",
       "            }, 500);\n",
       "            "
      ],
      "text/plain": [
       "<IPython.core.display.Javascript object>"
      ]
     },
     "metadata": {},
     "output_type": "display_data"
    }
   ],
   "source": [
    "# Visualization of signs of type of flee\n",
    "\n",
    "flee_visual = sns.countplot(y=df_civilians[\"flee\"])\n",
    "flee_visual.set(ylabel=\"Type of Flee\", xlabel=\"Total Amount of Persons\")"
   ]
  },
  {
   "cell_type": "code",
   "execution_count": 242,
   "id": "53ab9fef",
   "metadata": {},
   "outputs": [
    {
     "data": {
      "text/plain": [
       "1106"
      ]
     },
     "execution_count": 242,
     "metadata": {},
     "output_type": "execute_result"
    },
    {
     "data": {
      "application/javascript": [
       "\n",
       "            setTimeout(function() {\n",
       "                var nbb_cell_id = 242;\n",
       "                var nbb_unformatted_code = \"# How many police officers had body cameras during the shooting?\\n\\nfilter_camera = df_civilians[\\\"body_camera\\\"] == True\\ndf_civilians[filter_camera][\\\"body_camera\\\"].count()\";\n",
       "                var nbb_formatted_code = \"# How many police officers had body cameras during the shooting?\\n\\nfilter_camera = df_civilians[\\\"body_camera\\\"] == True\\ndf_civilians[filter_camera][\\\"body_camera\\\"].count()\";\n",
       "                var nbb_cells = Jupyter.notebook.get_cells();\n",
       "                for (var i = 0; i < nbb_cells.length; ++i) {\n",
       "                    if (nbb_cells[i].input_prompt_number == nbb_cell_id) {\n",
       "                        if (nbb_cells[i].get_text() == nbb_unformatted_code) {\n",
       "                             nbb_cells[i].set_text(nbb_formatted_code);\n",
       "                        }\n",
       "                        break;\n",
       "                    }\n",
       "                }\n",
       "            }, 500);\n",
       "            "
      ],
      "text/plain": [
       "<IPython.core.display.Javascript object>"
      ]
     },
     "metadata": {},
     "output_type": "display_data"
    }
   ],
   "source": [
    "# How many police officers had body cameras during the shooting?\n",
    "\n",
    "filter_camera = df_civilians[\"body_camera\"] == True\n",
    "df_civilians[filter_camera][\"body_camera\"].count()"
   ]
  },
  {
   "cell_type": "code",
   "execution_count": 243,
   "id": "c680a072",
   "metadata": {},
   "outputs": [
    {
     "data": {
      "text/plain": [
       "[Text(0.5, 0, 'Body Camera'), Text(0, 0.5, 'Total Amount of Police Officers')]"
      ]
     },
     "execution_count": 243,
     "metadata": {},
     "output_type": "execute_result"
    },
    {
     "data": {
      "image/png": "[encoded data removed]",
      "text/plain": [
       "<Figure size 936x432 with 1 Axes>"
      ]
     },
     "metadata": {},
     "output_type": "display_data"
    },
    {
     "data": {
      "application/javascript": [
       "\n",
       "            setTimeout(function() {\n",
       "                var nbb_cell_id = 243;\n",
       "                var nbb_unformatted_code = \"# Visualization of body camera\\n\\nflee_visual = sns.countplot(x=df_civilians[\\\"body_camera\\\"])\\nflee_visual.set(xlabel=\\\"Body Camera\\\", ylabel=\\\"Total Amount of Police Officers\\\")\";\n",
       "                var nbb_formatted_code = \"# Visualization of body camera\\n\\nflee_visual = sns.countplot(x=df_civilians[\\\"body_camera\\\"])\\nflee_visual.set(xlabel=\\\"Body Camera\\\", ylabel=\\\"Total Amount of Police Officers\\\")\";\n",
       "                var nbb_cells = Jupyter.notebook.get_cells();\n",
       "                for (var i = 0; i < nbb_cells.length; ++i) {\n",
       "                    if (nbb_cells[i].input_prompt_number == nbb_cell_id) {\n",
       "                        if (nbb_cells[i].get_text() == nbb_unformatted_code) {\n",
       "                             nbb_cells[i].set_text(nbb_formatted_code);\n",
       "                        }\n",
       "                        break;\n",
       "                    }\n",
       "                }\n",
       "            }, 500);\n",
       "            "
      ],
      "text/plain": [
       "<IPython.core.display.Javascript object>"
      ]
     },
     "metadata": {},
     "output_type": "display_data"
    }
   ],
   "source": [
    "# Visualization of body camera\n",
    "\n",
    "flee_visual = sns.countplot(x=df_civilians[\"body_camera\"])\n",
    "flee_visual.set(xlabel=\"Body Camera\", ylabel=\"Total Amount of Police Officers\")"
   ]
  },
  {
   "cell_type": "markdown",
   "id": "08fc79fa",
   "metadata": {},
   "source": [
    "## HIGHER LEVEL ANALYSIS"
   ]
  },
  {
   "cell_type": "markdown",
   "id": "7dc7732a",
   "metadata": {},
   "source": [
    "### POLICE SHOOTING AND OFFICERS KILLED"
   ]
  },
  {
   "cell_type": "code",
   "execution_count": 247,
   "id": "2dea6739",
   "metadata": {},
   "outputs": [
    {
     "data": {
      "text/html": [
       "<div>\n",
       "<style scoped>\n",
       "    .dataframe tbody tr th:only-of-type {\n",
       "        vertical-align: middle;\n",
       "    }\n",
       "\n",
       "    .dataframe tbody tr th {\n",
       "        vertical-align: top;\n",
       "    }\n",
       "\n",
       "    .dataframe thead th {\n",
       "        text-align: right;\n",
       "    }\n",
       "</style>\n",
       "<table border=\"1\" class=\"dataframe\">\n",
       "  <thead>\n",
       "    <tr style=\"text-align: right;\">\n",
       "      <th></th>\n",
       "      <th>year</th>\n",
       "      <th>officers_killed</th>\n",
       "    </tr>\n",
       "  </thead>\n",
       "  <tbody>\n",
       "    <tr>\n",
       "      <th>0</th>\n",
       "      <td>2015</td>\n",
       "      <td>112.0</td>\n",
       "    </tr>\n",
       "    <tr>\n",
       "      <th>1</th>\n",
       "      <td>2016</td>\n",
       "      <td>150.0</td>\n",
       "    </tr>\n",
       "    <tr>\n",
       "      <th>2</th>\n",
       "      <td>2017</td>\n",
       "      <td>137.0</td>\n",
       "    </tr>\n",
       "    <tr>\n",
       "      <th>3</th>\n",
       "      <td>2018</td>\n",
       "      <td>150.0</td>\n",
       "    </tr>\n",
       "    <tr>\n",
       "      <th>4</th>\n",
       "      <td>2019</td>\n",
       "      <td>126.0</td>\n",
       "    </tr>\n",
       "    <tr>\n",
       "      <th>5</th>\n",
       "      <td>2020</td>\n",
       "      <td>128.0</td>\n",
       "    </tr>\n",
       "    <tr>\n",
       "      <th>6</th>\n",
       "      <td>2021</td>\n",
       "      <td>179.0</td>\n",
       "    </tr>\n",
       "    <tr>\n",
       "      <th>7</th>\n",
       "      <td>2022</td>\n",
       "      <td>NaN</td>\n",
       "    </tr>\n",
       "  </tbody>\n",
       "</table>\n",
       "</div>"
      ],
      "text/plain": [
       "   year  officers_killed\n",
       "0  2015            112.0\n",
       "1  2016            150.0\n",
       "2  2017            137.0\n",
       "3  2018            150.0\n",
       "4  2019            126.0\n",
       "5  2020            128.0\n",
       "6  2021            179.0\n",
       "7  2022              NaN"
      ]
     },
     "execution_count": 247,
     "metadata": {},
     "output_type": "execute_result"
    },
    {
     "data": {
      "application/javascript": [
       "\n",
       "            setTimeout(function() {\n",
       "                var nbb_cell_id = 247;\n",
       "                var nbb_unformatted_code = \"# New DataFrame for Police Officers killed in the line of duty under official FBI reports\\n\\ndf_officers = pd.DataFrame(\\n    {\\n        \\\"year\\\": [2015, 2016, 2017, 2018, 2019, 2020, 2021, 2022],\\n        \\\"officers_killed\\\": [112, 150, 137, 150, 126, 128, 179, np.nan],\\n    }\\n)\\n\\ndf_officers\";\n",
       "                var nbb_formatted_code = \"# New DataFrame for Police Officers killed in the line of duty under official FBI reports\\n\\ndf_officers = pd.DataFrame(\\n    {\\n        \\\"year\\\": [2015, 2016, 2017, 2018, 2019, 2020, 2021, 2022],\\n        \\\"officers_killed\\\": [112, 150, 137, 150, 126, 128, 179, np.nan],\\n    }\\n)\\n\\ndf_officers\";\n",
       "                var nbb_cells = Jupyter.notebook.get_cells();\n",
       "                for (var i = 0; i < nbb_cells.length; ++i) {\n",
       "                    if (nbb_cells[i].input_prompt_number == nbb_cell_id) {\n",
       "                        if (nbb_cells[i].get_text() == nbb_unformatted_code) {\n",
       "                             nbb_cells[i].set_text(nbb_formatted_code);\n",
       "                        }\n",
       "                        break;\n",
       "                    }\n",
       "                }\n",
       "            }, 500);\n",
       "            "
      ],
      "text/plain": [
       "<IPython.core.display.Javascript object>"
      ]
     },
     "metadata": {},
     "output_type": "display_data"
    }
   ],
   "source": [
    "# New DataFrame for Police Officers killed in the line of duty under official FBI reports\n",
    "\n",
    "df_officers = pd.DataFrame(\n",
    "    {\n",
    "        \"year\": [2015, 2016, 2017, 2018, 2019, 2020, 2021, 2022],\n",
    "        \"officers_killed\": [112, 150, 137, 150, 126, 128, 179, np.nan],\n",
    "    }\n",
    ")\n",
    "\n",
    "df_officers"
   ]
  },
  {
   "cell_type": "code",
   "execution_count": 248,
   "id": "a9ae8cbe",
   "metadata": {},
   "outputs": [
    {
     "data": {
      "text/plain": [
       "year               0\n",
       "officers_killed    1\n",
       "dtype: int64"
      ]
     },
     "execution_count": 248,
     "metadata": {},
     "output_type": "execute_result"
    },
    {
     "data": {
      "application/javascript": [
       "\n",
       "            setTimeout(function() {\n",
       "                var nbb_cell_id = 248;\n",
       "                var nbb_unformatted_code = \"# Check NaN\\n\\ndf_officers.isna().sum()\";\n",
       "                var nbb_formatted_code = \"# Check NaN\\n\\ndf_officers.isna().sum()\";\n",
       "                var nbb_cells = Jupyter.notebook.get_cells();\n",
       "                for (var i = 0; i < nbb_cells.length; ++i) {\n",
       "                    if (nbb_cells[i].input_prompt_number == nbb_cell_id) {\n",
       "                        if (nbb_cells[i].get_text() == nbb_unformatted_code) {\n",
       "                             nbb_cells[i].set_text(nbb_formatted_code);\n",
       "                        }\n",
       "                        break;\n",
       "                    }\n",
       "                }\n",
       "            }, 500);\n",
       "            "
      ],
      "text/plain": [
       "<IPython.core.display.Javascript object>"
      ]
     },
     "metadata": {},
     "output_type": "display_data"
    }
   ],
   "source": [
    "# Check NaN\n",
    "\n",
    "df_officers.isna().sum()"
   ]
  },
  {
   "cell_type": "code",
   "execution_count": 249,
   "id": "3f5776d1",
   "metadata": {},
   "outputs": [
    {
     "data": {
      "text/html": [
       "<div>\n",
       "<style scoped>\n",
       "    .dataframe tbody tr th:only-of-type {\n",
       "        vertical-align: middle;\n",
       "    }\n",
       "\n",
       "    .dataframe tbody tr th {\n",
       "        vertical-align: top;\n",
       "    }\n",
       "\n",
       "    .dataframe thead th {\n",
       "        text-align: right;\n",
       "    }\n",
       "</style>\n",
       "<table border=\"1\" class=\"dataframe\">\n",
       "  <thead>\n",
       "    <tr style=\"text-align: right;\">\n",
       "      <th></th>\n",
       "      <th>year</th>\n",
       "      <th>civilians_killed</th>\n",
       "    </tr>\n",
       "  </thead>\n",
       "  <tbody>\n",
       "    <tr>\n",
       "      <th>0</th>\n",
       "      <td>2015</td>\n",
       "      <td>1054</td>\n",
       "    </tr>\n",
       "    <tr>\n",
       "      <th>1</th>\n",
       "      <td>2016</td>\n",
       "      <td>1020</td>\n",
       "    </tr>\n",
       "    <tr>\n",
       "      <th>2</th>\n",
       "      <td>2017</td>\n",
       "      <td>999</td>\n",
       "    </tr>\n",
       "    <tr>\n",
       "      <th>3</th>\n",
       "      <td>2018</td>\n",
       "      <td>994</td>\n",
       "    </tr>\n",
       "    <tr>\n",
       "      <th>4</th>\n",
       "      <td>2019</td>\n",
       "      <td>993</td>\n",
       "    </tr>\n",
       "    <tr>\n",
       "      <th>5</th>\n",
       "      <td>2020</td>\n",
       "      <td>981</td>\n",
       "    </tr>\n",
       "    <tr>\n",
       "      <th>6</th>\n",
       "      <td>2021</td>\n",
       "      <td>958</td>\n",
       "    </tr>\n",
       "    <tr>\n",
       "      <th>7</th>\n",
       "      <td>2022</td>\n",
       "      <td>730</td>\n",
       "    </tr>\n",
       "  </tbody>\n",
       "</table>\n",
       "</div>"
      ],
      "text/plain": [
       "   year  civilians_killed\n",
       "0  2015              1054\n",
       "1  2016              1020\n",
       "2  2017               999\n",
       "3  2018               994\n",
       "4  2019               993\n",
       "5  2020               981\n",
       "6  2021               958\n",
       "7  2022               730"
      ]
     },
     "execution_count": 249,
     "metadata": {},
     "output_type": "execute_result"
    },
    {
     "data": {
      "application/javascript": [
       "\n",
       "            setTimeout(function() {\n",
       "                var nbb_cell_id = 249;\n",
       "                var nbb_unformatted_code = \"# Create new DataFrame only for year and total amount of civilians killed\\n\\ndf_civilians[\\\"year\\\"].value_counts()\\n\\ndf_civilians_by_year = pd.DataFrame(\\n    {\\n        \\\"year\\\": [2015, 2016, 2017, 2018, 2019, 2020, 2021, 2022],\\n        \\\"civilians_killed\\\": [1054, 1020, 999, 994, 993, 981, 958, 730],\\n    }\\n)\\ndf_civilians_by_year\";\n",
       "                var nbb_formatted_code = \"# Create new DataFrame only for year and total amount of civilians killed\\n\\ndf_civilians[\\\"year\\\"].value_counts()\\n\\ndf_civilians_by_year = pd.DataFrame(\\n    {\\n        \\\"year\\\": [2015, 2016, 2017, 2018, 2019, 2020, 2021, 2022],\\n        \\\"civilians_killed\\\": [1054, 1020, 999, 994, 993, 981, 958, 730],\\n    }\\n)\\ndf_civilians_by_year\";\n",
       "                var nbb_cells = Jupyter.notebook.get_cells();\n",
       "                for (var i = 0; i < nbb_cells.length; ++i) {\n",
       "                    if (nbb_cells[i].input_prompt_number == nbb_cell_id) {\n",
       "                        if (nbb_cells[i].get_text() == nbb_unformatted_code) {\n",
       "                             nbb_cells[i].set_text(nbb_formatted_code);\n",
       "                        }\n",
       "                        break;\n",
       "                    }\n",
       "                }\n",
       "            }, 500);\n",
       "            "
      ],
      "text/plain": [
       "<IPython.core.display.Javascript object>"
      ]
     },
     "metadata": {},
     "output_type": "display_data"
    }
   ],
   "source": [
    "# Create new DataFrame only for year and total amount of civilians killed\n",
    "\n",
    "df_civilians[\"year\"].value_counts()\n",
    "\n",
    "df_civilians_by_year = pd.DataFrame(\n",
    "    {\n",
    "        \"year\": [2015, 2016, 2017, 2018, 2019, 2020, 2021, 2022],\n",
    "        \"civilians_killed\": [1054, 1020, 999, 994, 993, 981, 958, 730],\n",
    "    }\n",
    ")\n",
    "df_civilians_by_year"
   ]
  },
  {
   "cell_type": "code",
   "execution_count": 250,
   "id": "db645eb8",
   "metadata": {},
   "outputs": [
    {
     "data": {
      "text/html": [
       "<div>\n",
       "<style scoped>\n",
       "    .dataframe tbody tr th:only-of-type {\n",
       "        vertical-align: middle;\n",
       "    }\n",
       "\n",
       "    .dataframe tbody tr th {\n",
       "        vertical-align: top;\n",
       "    }\n",
       "\n",
       "    .dataframe thead th {\n",
       "        text-align: right;\n",
       "    }\n",
       "</style>\n",
       "<table border=\"1\" class=\"dataframe\">\n",
       "  <thead>\n",
       "    <tr style=\"text-align: right;\">\n",
       "      <th></th>\n",
       "      <th>year</th>\n",
       "      <th>civilians_killed</th>\n",
       "      <th>officers_killed</th>\n",
       "    </tr>\n",
       "  </thead>\n",
       "  <tbody>\n",
       "    <tr>\n",
       "      <th>0</th>\n",
       "      <td>2015</td>\n",
       "      <td>1054</td>\n",
       "      <td>112.0</td>\n",
       "    </tr>\n",
       "    <tr>\n",
       "      <th>1</th>\n",
       "      <td>2016</td>\n",
       "      <td>1020</td>\n",
       "      <td>150.0</td>\n",
       "    </tr>\n",
       "    <tr>\n",
       "      <th>2</th>\n",
       "      <td>2017</td>\n",
       "      <td>999</td>\n",
       "      <td>137.0</td>\n",
       "    </tr>\n",
       "    <tr>\n",
       "      <th>3</th>\n",
       "      <td>2018</td>\n",
       "      <td>994</td>\n",
       "      <td>150.0</td>\n",
       "    </tr>\n",
       "    <tr>\n",
       "      <th>4</th>\n",
       "      <td>2019</td>\n",
       "      <td>993</td>\n",
       "      <td>126.0</td>\n",
       "    </tr>\n",
       "    <tr>\n",
       "      <th>5</th>\n",
       "      <td>2020</td>\n",
       "      <td>981</td>\n",
       "      <td>128.0</td>\n",
       "    </tr>\n",
       "    <tr>\n",
       "      <th>6</th>\n",
       "      <td>2021</td>\n",
       "      <td>958</td>\n",
       "      <td>179.0</td>\n",
       "    </tr>\n",
       "    <tr>\n",
       "      <th>7</th>\n",
       "      <td>2022</td>\n",
       "      <td>730</td>\n",
       "      <td>NaN</td>\n",
       "    </tr>\n",
       "  </tbody>\n",
       "</table>\n",
       "</div>"
      ],
      "text/plain": [
       "   year  civilians_killed  officers_killed\n",
       "0  2015              1054            112.0\n",
       "1  2016              1020            150.0\n",
       "2  2017               999            137.0\n",
       "3  2018               994            150.0\n",
       "4  2019               993            126.0\n",
       "5  2020               981            128.0\n",
       "6  2021               958            179.0\n",
       "7  2022               730              NaN"
      ]
     },
     "execution_count": 250,
     "metadata": {},
     "output_type": "execute_result"
    },
    {
     "data": {
      "application/javascript": [
       "\n",
       "            setTimeout(function() {\n",
       "                var nbb_cell_id = 250;\n",
       "                var nbb_unformatted_code = \"# Merge DataFrames df_civilians and df_officers\\n\\ndf = df_civilians_by_year.merge(df_officers, how=\\\"inner\\\", on=\\\"year\\\")\\ndf\";\n",
       "                var nbb_formatted_code = \"# Merge DataFrames df_civilians and df_officers\\n\\ndf = df_civilians_by_year.merge(df_officers, how=\\\"inner\\\", on=\\\"year\\\")\\ndf\";\n",
       "                var nbb_cells = Jupyter.notebook.get_cells();\n",
       "                for (var i = 0; i < nbb_cells.length; ++i) {\n",
       "                    if (nbb_cells[i].input_prompt_number == nbb_cell_id) {\n",
       "                        if (nbb_cells[i].get_text() == nbb_unformatted_code) {\n",
       "                             nbb_cells[i].set_text(nbb_formatted_code);\n",
       "                        }\n",
       "                        break;\n",
       "                    }\n",
       "                }\n",
       "            }, 500);\n",
       "            "
      ],
      "text/plain": [
       "<IPython.core.display.Javascript object>"
      ]
     },
     "metadata": {},
     "output_type": "display_data"
    }
   ],
   "source": [
    "# Merge DataFrames df_civilians and df_officers\n",
    "\n",
    "df = df_civilians_by_year.merge(df_officers, how=\"inner\", on=\"year\")\n",
    "df"
   ]
  },
  {
   "cell_type": "code",
   "execution_count": 251,
   "id": "06aee0d8",
   "metadata": {},
   "outputs": [
    {
     "data": {
      "image/png": "[encoded data removed]",
      "text/plain": [
       "<Figure size 936x432 with 2 Axes>"
      ]
     },
     "metadata": {},
     "output_type": "display_data"
    },
    {
     "data": {
      "application/javascript": [
       "\n",
       "            setTimeout(function() {\n",
       "                var nbb_cell_id = 251;\n",
       "                var nbb_unformatted_code = \"# Comparison of civilians and officers killed in 2015-2022\\n\\nax1 = plt.subplot()\\nax2 = ax1.twinx()\\nsns.lineplot(data=df, x=\\\"year\\\", y=\\\"civilians_killed\\\", ax=ax1)\\nsns.lineplot(data=df, x=\\\"year\\\", y=\\\"officers_killed\\\", color=\\\"r\\\", ax=ax2)\\nax2.tick_params(axis=\\\"y\\\", colors=\\\"red\\\")\\n\\n# The number of persons killed by police decreases sligthly year by year.\\n# The number of police officers killed in a line of duty is unstable but seems to increase.\";\n",
       "                var nbb_formatted_code = \"# Comparison of civilians and officers killed in 2015-2022\\n\\nax1 = plt.subplot()\\nax2 = ax1.twinx()\\nsns.lineplot(data=df, x=\\\"year\\\", y=\\\"civilians_killed\\\", ax=ax1)\\nsns.lineplot(data=df, x=\\\"year\\\", y=\\\"officers_killed\\\", color=\\\"r\\\", ax=ax2)\\nax2.tick_params(axis=\\\"y\\\", colors=\\\"red\\\")\\n\\n# The number of persons killed by police decreases sligthly year by year.\\n# The number of police officers killed in a line of duty is unstable but seems to increase.\";\n",
       "                var nbb_cells = Jupyter.notebook.get_cells();\n",
       "                for (var i = 0; i < nbb_cells.length; ++i) {\n",
       "                    if (nbb_cells[i].input_prompt_number == nbb_cell_id) {\n",
       "                        if (nbb_cells[i].get_text() == nbb_unformatted_code) {\n",
       "                             nbb_cells[i].set_text(nbb_formatted_code);\n",
       "                        }\n",
       "                        break;\n",
       "                    }\n",
       "                }\n",
       "            }, 500);\n",
       "            "
      ],
      "text/plain": [
       "<IPython.core.display.Javascript object>"
      ]
     },
     "metadata": {},
     "output_type": "display_data"
    }
   ],
   "source": [
    "# Comparison of civilians and officers killed in 2015-2022\n",
    "\n",
    "ax1 = plt.subplot()\n",
    "ax2 = ax1.twinx()\n",
    "sns.lineplot(data=df, x=\"year\", y=\"civilians_killed\", ax=ax1)\n",
    "sns.lineplot(data=df, x=\"year\", y=\"officers_killed\", color=\"r\", ax=ax2)\n",
    "ax2.tick_params(axis=\"y\", colors=\"red\")\n",
    "\n",
    "# The number of persons killed by police decreases sligthly year by year.\n",
    "# The number of police officers killed in a line of duty is unstable but seems to increase."
   ]
  },
  {
   "cell_type": "markdown",
   "id": "1df3ef35",
   "metadata": {},
   "source": [
    "### POLICE SHOOTINGS"
   ]
  },
  {
   "cell_type": "code",
   "execution_count": 273,
   "id": "c31e3136",
   "metadata": {},
   "outputs": [
    {
     "data": {
      "text/plain": [
       "'Clesslynn Jane Crawford'"
      ]
     },
     "execution_count": 273,
     "metadata": {},
     "output_type": "execute_result"
    },
    {
     "data": {
      "application/javascript": [
       "\n",
       "            setTimeout(function() {\n",
       "                var nbb_cell_id = 273;\n",
       "                var nbb_unformatted_code = \"# Select age and receive victim's name\\n\\n\\ndef name_by_age(age, df):\\n    df_result = df.set_index(\\\"age\\\")\\n    result = df_result.loc[age][\\\"name\\\"]\\n    return result\\n\\n\\nname_by_age(2, df_civilians)\";\n",
       "                var nbb_formatted_code = \"# Select age and receive victim's name\\n\\n\\ndef name_by_age(age, df):\\n    df_result = df.set_index(\\\"age\\\")\\n    result = df_result.loc[age][\\\"name\\\"]\\n    return result\\n\\n\\nname_by_age(2, df_civilians)\";\n",
       "                var nbb_cells = Jupyter.notebook.get_cells();\n",
       "                for (var i = 0; i < nbb_cells.length; ++i) {\n",
       "                    if (nbb_cells[i].input_prompt_number == nbb_cell_id) {\n",
       "                        if (nbb_cells[i].get_text() == nbb_unformatted_code) {\n",
       "                             nbb_cells[i].set_text(nbb_formatted_code);\n",
       "                        }\n",
       "                        break;\n",
       "                    }\n",
       "                }\n",
       "            }, 500);\n",
       "            "
      ],
      "text/plain": [
       "<IPython.core.display.Javascript object>"
      ]
     },
     "metadata": {},
     "output_type": "display_data"
    }
   ],
   "source": [
    "# Select age and receive victim's name\n",
    "\n",
    "\n",
    "def name_by_age(age, df):\n",
    "    df_result = df.set_index(\"age\")\n",
    "    result = df_result.loc[age][\"name\"]\n",
    "    return result\n",
    "\n",
    "\n",
    "name_by_age(2, df_civilians)"
   ]
  },
  {
   "cell_type": "code",
   "execution_count": 253,
   "id": "913b5fbb",
   "metadata": {},
   "outputs": [
    {
     "data": {
      "text/html": [
       "<div>\n",
       "<style scoped>\n",
       "    .dataframe tbody tr th:only-of-type {\n",
       "        vertical-align: middle;\n",
       "    }\n",
       "\n",
       "    .dataframe tbody tr th {\n",
       "        vertical-align: top;\n",
       "    }\n",
       "\n",
       "    .dataframe thead th {\n",
       "        text-align: right;\n",
       "    }\n",
       "</style>\n",
       "<table border=\"1\" class=\"dataframe\">\n",
       "  <thead>\n",
       "    <tr style=\"text-align: right;\">\n",
       "      <th></th>\n",
       "      <th>name</th>\n",
       "    </tr>\n",
       "  </thead>\n",
       "  <tbody>\n",
       "    <tr>\n",
       "      <th>25</th>\n",
       "      <td>Richard McClendon</td>\n",
       "    </tr>\n",
       "    <tr>\n",
       "      <th>30</th>\n",
       "      <td>Robert Edwards</td>\n",
       "    </tr>\n",
       "    <tr>\n",
       "      <th>35</th>\n",
       "      <td>Jose Ceja</td>\n",
       "    </tr>\n",
       "    <tr>\n",
       "      <th>37</th>\n",
       "      <td>Scott Hall</td>\n",
       "    </tr>\n",
       "    <tr>\n",
       "      <th>38</th>\n",
       "      <td>Zaki Shinwary</td>\n",
       "    </tr>\n",
       "    <tr>\n",
       "      <th>...</th>\n",
       "      <td>...</td>\n",
       "    </tr>\n",
       "    <tr>\n",
       "      <th>7690</th>\n",
       "      <td>Frank Correa</td>\n",
       "    </tr>\n",
       "    <tr>\n",
       "      <th>7697</th>\n",
       "      <td>Brian Underwood</td>\n",
       "    </tr>\n",
       "    <tr>\n",
       "      <th>7699</th>\n",
       "      <td>J'Quinton D. Hopson</td>\n",
       "    </tr>\n",
       "    <tr>\n",
       "      <th>7704</th>\n",
       "      <td>Augustine Flores</td>\n",
       "    </tr>\n",
       "    <tr>\n",
       "      <th>7716</th>\n",
       "      <td>Rushdee Anderson</td>\n",
       "    </tr>\n",
       "  </tbody>\n",
       "</table>\n",
       "<p>1012 rows × 1 columns</p>\n",
       "</div>"
      ],
      "text/plain": [
       "                     name\n",
       "25      Richard McClendon\n",
       "30         Robert Edwards\n",
       "35              Jose Ceja\n",
       "37             Scott Hall\n",
       "38          Zaki Shinwary\n",
       "...                   ...\n",
       "7690         Frank Correa\n",
       "7697      Brian Underwood\n",
       "7699  J'Quinton D. Hopson\n",
       "7704     Augustine Flores\n",
       "7716     Rushdee Anderson\n",
       "\n",
       "[1012 rows x 1 columns]"
      ]
     },
     "execution_count": 253,
     "metadata": {},
     "output_type": "execute_result"
    },
    {
     "data": {
      "application/javascript": [
       "\n",
       "            setTimeout(function() {\n",
       "                var nbb_cell_id = 253;\n",
       "                var nbb_unformatted_code = \"# Persons' names killed in CA, TX and FL above average age\\n\\ntop_3_states = df_civilians[\\\"state\\\"].isin([\\\"CA\\\", \\\"TX\\\", \\\"FL\\\"])\\nage = df_civilians[\\\"age\\\"] > average_age\\ndf_civilians[top_3_states & age][[\\\"name\\\"]]\";\n",
       "                var nbb_formatted_code = \"# Persons' names killed in CA, TX and FL above average age\\n\\ntop_3_states = df_civilians[\\\"state\\\"].isin([\\\"CA\\\", \\\"TX\\\", \\\"FL\\\"])\\nage = df_civilians[\\\"age\\\"] > average_age\\ndf_civilians[top_3_states & age][[\\\"name\\\"]]\";\n",
       "                var nbb_cells = Jupyter.notebook.get_cells();\n",
       "                for (var i = 0; i < nbb_cells.length; ++i) {\n",
       "                    if (nbb_cells[i].input_prompt_number == nbb_cell_id) {\n",
       "                        if (nbb_cells[i].get_text() == nbb_unformatted_code) {\n",
       "                             nbb_cells[i].set_text(nbb_formatted_code);\n",
       "                        }\n",
       "                        break;\n",
       "                    }\n",
       "                }\n",
       "            }, 500);\n",
       "            "
      ],
      "text/plain": [
       "<IPython.core.display.Javascript object>"
      ]
     },
     "metadata": {},
     "output_type": "display_data"
    }
   ],
   "source": [
    "# Persons' names killed in CA, TX and FL above average age\n",
    "\n",
    "top_3_states = df_civilians[\"state\"].isin([\"CA\", \"TX\", \"FL\"])\n",
    "age = df_civilians[\"age\"] > average_age\n",
    "df_civilians[top_3_states & age][[\"name\"]]"
   ]
  },
  {
   "cell_type": "code",
   "execution_count": 272,
   "id": "166e03fb",
   "metadata": {},
   "outputs": [
    {
     "data": {
      "text/plain": [
       "<AxesSubplot:xlabel='by_month', ylabel='counts'>"
      ]
     },
     "execution_count": 272,
     "metadata": {},
     "output_type": "execute_result"
    },
    {
     "data": {
      "image/png": "[encoded data removed]",
      "text/plain": [
       "<Figure size 936x432 with 1 Axes>"
      ]
     },
     "metadata": {},
     "output_type": "display_data"
    },
    {
     "data": {
      "application/javascript": [
       "\n",
       "            setTimeout(function() {\n",
       "                var nbb_cell_id = 272;\n",
       "                var nbb_unformatted_code = \"# Visualization of shootings by month\\n\\ndf_shootings_by_month = (\\n    df_civilians[\\\"month\\\"]\\n    .value_counts()\\n    .rename_axis(\\\"by_month\\\")\\n    .reset_index(name=\\\"counts\\\")\\n)\\ndf_shootings_by_month\\n\\nsns.lineplot(data=df_shootings_by_month, x=\\\"by_month\\\", y=\\\"counts\\\")\";\n",
       "                var nbb_formatted_code = \"# Visualization of shootings by month\\n\\ndf_shootings_by_month = (\\n    df_civilians[\\\"month\\\"]\\n    .value_counts()\\n    .rename_axis(\\\"by_month\\\")\\n    .reset_index(name=\\\"counts\\\")\\n)\\ndf_shootings_by_month\\n\\nsns.lineplot(data=df_shootings_by_month, x=\\\"by_month\\\", y=\\\"counts\\\")\";\n",
       "                var nbb_cells = Jupyter.notebook.get_cells();\n",
       "                for (var i = 0; i < nbb_cells.length; ++i) {\n",
       "                    if (nbb_cells[i].input_prompt_number == nbb_cell_id) {\n",
       "                        if (nbb_cells[i].get_text() == nbb_unformatted_code) {\n",
       "                             nbb_cells[i].set_text(nbb_formatted_code);\n",
       "                        }\n",
       "                        break;\n",
       "                    }\n",
       "                }\n",
       "            }, 500);\n",
       "            "
      ],
      "text/plain": [
       "<IPython.core.display.Javascript object>"
      ]
     },
     "metadata": {},
     "output_type": "display_data"
    }
   ],
   "source": [
    "# Visualization of shootings by month\n",
    "\n",
    "df_shootings_by_month = (\n",
    "    df_civilians[\"month\"]\n",
    "    .value_counts()\n",
    "    .rename_axis(\"by_month\")\n",
    "    .reset_index(name=\"counts\")\n",
    ")\n",
    "df_shootings_by_month\n",
    "\n",
    "sns.lineplot(data=df_shootings_by_month, x=\"by_month\", y=\"counts\")"
   ]
  },
  {
   "cell_type": "code",
   "execution_count": 256,
   "id": "3f742b8e",
   "metadata": {},
   "outputs": [
    {
     "data": {
      "text/plain": [
       "gender  age\n",
       "F       30     14\n",
       "        27     13\n",
       "        25     12\n",
       "        33     12\n",
       "        29     11\n",
       "               ..\n",
       "M       12      1\n",
       "        78      1\n",
       "        89      1\n",
       "        91      1\n",
       "        92      1\n",
       "Name: age, Length: 139, dtype: int64"
      ]
     },
     "execution_count": 256,
     "metadata": {},
     "output_type": "execute_result"
    },
    {
     "data": {
      "application/javascript": [
       "\n",
       "            setTimeout(function() {\n",
       "                var nbb_cell_id = 256;\n",
       "                var nbb_unformatted_code = \"# Gender by age\\n\\ndf_civilians[filter_zero_excl].groupby(\\\"gender\\\")[\\\"age\\\"].value_counts()\";\n",
       "                var nbb_formatted_code = \"# Gender by age\\n\\ndf_civilians[filter_zero_excl].groupby(\\\"gender\\\")[\\\"age\\\"].value_counts()\";\n",
       "                var nbb_cells = Jupyter.notebook.get_cells();\n",
       "                for (var i = 0; i < nbb_cells.length; ++i) {\n",
       "                    if (nbb_cells[i].input_prompt_number == nbb_cell_id) {\n",
       "                        if (nbb_cells[i].get_text() == nbb_unformatted_code) {\n",
       "                             nbb_cells[i].set_text(nbb_formatted_code);\n",
       "                        }\n",
       "                        break;\n",
       "                    }\n",
       "                }\n",
       "            }, 500);\n",
       "            "
      ],
      "text/plain": [
       "<IPython.core.display.Javascript object>"
      ]
     },
     "metadata": {},
     "output_type": "display_data"
    }
   ],
   "source": [
    "# Gender by age\n",
    "\n",
    "df_civilians[filter_zero_excl].groupby(\"gender\")[\"age\"].value_counts()"
   ]
  },
  {
   "cell_type": "code",
   "execution_count": 257,
   "id": "76ba54bb",
   "metadata": {},
   "outputs": [
    {
     "data": {
      "text/plain": [
       "<AxesSubplot:xlabel='by_age', ylabel='counts'>"
      ]
     },
     "execution_count": 257,
     "metadata": {},
     "output_type": "execute_result"
    },
    {
     "data": {
      "image/png": "[encoded data removed]",
      "text/plain": [
       "<Figure size 936x432 with 1 Axes>"
      ]
     },
     "metadata": {},
     "output_type": "display_data"
    },
    {
     "data": {
      "application/javascript": [
       "\n",
       "            setTimeout(function() {\n",
       "                var nbb_cell_id = 257;\n",
       "                var nbb_unformatted_code = \"# Shootings by age and gender\\n\\ndf_shootings_by_age = (\\n    df_civilians[filter_zero_excl][\\\"age\\\"]\\n    .value_counts()\\n    .rename_axis(\\\"by_age\\\")\\n    .reset_index(name=\\\"counts\\\")\\n)\\ndf_shootings_by_age\\n\\nsns.scatterplot(\\n    x=df_shootings_by_age[\\\"by_age\\\"],\\n    y=df_shootings_by_age[\\\"counts\\\"],\\n    hue=df_civilians[\\\"gender\\\"],\\n)\";\n",
       "                var nbb_formatted_code = \"# Shootings by age and gender\\n\\ndf_shootings_by_age = (\\n    df_civilians[filter_zero_excl][\\\"age\\\"]\\n    .value_counts()\\n    .rename_axis(\\\"by_age\\\")\\n    .reset_index(name=\\\"counts\\\")\\n)\\ndf_shootings_by_age\\n\\nsns.scatterplot(\\n    x=df_shootings_by_age[\\\"by_age\\\"],\\n    y=df_shootings_by_age[\\\"counts\\\"],\\n    hue=df_civilians[\\\"gender\\\"],\\n)\";\n",
       "                var nbb_cells = Jupyter.notebook.get_cells();\n",
       "                for (var i = 0; i < nbb_cells.length; ++i) {\n",
       "                    if (nbb_cells[i].input_prompt_number == nbb_cell_id) {\n",
       "                        if (nbb_cells[i].get_text() == nbb_unformatted_code) {\n",
       "                             nbb_cells[i].set_text(nbb_formatted_code);\n",
       "                        }\n",
       "                        break;\n",
       "                    }\n",
       "                }\n",
       "            }, 500);\n",
       "            "
      ],
      "text/plain": [
       "<IPython.core.display.Javascript object>"
      ]
     },
     "metadata": {},
     "output_type": "display_data"
    }
   ],
   "source": [
    "# Shootings by age and gender\n",
    "\n",
    "df_shootings_by_age = (\n",
    "    df_civilians[filter_zero_excl][\"age\"]\n",
    "    .value_counts()\n",
    "    .rename_axis(\"by_age\")\n",
    "    .reset_index(name=\"counts\")\n",
    ")\n",
    "df_shootings_by_age\n",
    "\n",
    "sns.scatterplot(\n",
    "    x=df_shootings_by_age[\"by_age\"],\n",
    "    y=df_shootings_by_age[\"counts\"],\n",
    "    hue=df_civilians[\"gender\"],\n",
    ")"
   ]
  },
  {
   "cell_type": "code",
   "execution_count": 258,
   "id": "baa5b5d4",
   "metadata": {},
   "outputs": [
    {
     "data": {
      "text/html": [
       "<div>\n",
       "<style scoped>\n",
       "    .dataframe tbody tr th:only-of-type {\n",
       "        vertical-align: middle;\n",
       "    }\n",
       "\n",
       "    .dataframe tbody tr th {\n",
       "        vertical-align: top;\n",
       "    }\n",
       "\n",
       "    .dataframe thead th {\n",
       "        text-align: right;\n",
       "    }\n",
       "</style>\n",
       "<table border=\"1\" class=\"dataframe\">\n",
       "  <thead>\n",
       "    <tr style=\"text-align: right;\">\n",
       "      <th></th>\n",
       "      <th>min</th>\n",
       "      <th>max</th>\n",
       "    </tr>\n",
       "    <tr>\n",
       "      <th>state</th>\n",
       "      <th></th>\n",
       "      <th></th>\n",
       "    </tr>\n",
       "  </thead>\n",
       "  <tbody>\n",
       "    <tr>\n",
       "      <th>KS</th>\n",
       "      <td>2</td>\n",
       "      <td>67</td>\n",
       "    </tr>\n",
       "    <tr>\n",
       "      <th>LA</th>\n",
       "      <td>6</td>\n",
       "      <td>71</td>\n",
       "    </tr>\n",
       "    <tr>\n",
       "      <th>TX</th>\n",
       "      <td>6</td>\n",
       "      <td>84</td>\n",
       "    </tr>\n",
       "    <tr>\n",
       "      <th>PA</th>\n",
       "      <td>8</td>\n",
       "      <td>91</td>\n",
       "    </tr>\n",
       "    <tr>\n",
       "      <th>IL</th>\n",
       "      <td>13</td>\n",
       "      <td>68</td>\n",
       "    </tr>\n",
       "    <tr>\n",
       "      <th>OH</th>\n",
       "      <td>13</td>\n",
       "      <td>76</td>\n",
       "    </tr>\n",
       "    <tr>\n",
       "      <th>WI</th>\n",
       "      <td>14</td>\n",
       "      <td>77</td>\n",
       "    </tr>\n",
       "    <tr>\n",
       "      <th>AZ</th>\n",
       "      <td>14</td>\n",
       "      <td>89</td>\n",
       "    </tr>\n",
       "    <tr>\n",
       "      <th>CA</th>\n",
       "      <td>14</td>\n",
       "      <td>91</td>\n",
       "    </tr>\n",
       "    <tr>\n",
       "      <th>IN</th>\n",
       "      <td>15</td>\n",
       "      <td>69</td>\n",
       "    </tr>\n",
       "    <tr>\n",
       "      <th>OK</th>\n",
       "      <td>15</td>\n",
       "      <td>83</td>\n",
       "    </tr>\n",
       "    <tr>\n",
       "      <th>MS</th>\n",
       "      <td>15</td>\n",
       "      <td>80</td>\n",
       "    </tr>\n",
       "    <tr>\n",
       "      <th>MO</th>\n",
       "      <td>15</td>\n",
       "      <td>70</td>\n",
       "    </tr>\n",
       "    <tr>\n",
       "      <th>FL</th>\n",
       "      <td>15</td>\n",
       "      <td>88</td>\n",
       "    </tr>\n",
       "    <tr>\n",
       "      <th>VA</th>\n",
       "      <td>15</td>\n",
       "      <td>79</td>\n",
       "    </tr>\n",
       "    <tr>\n",
       "      <th>CT</th>\n",
       "      <td>15</td>\n",
       "      <td>62</td>\n",
       "    </tr>\n",
       "    <tr>\n",
       "      <th>AL</th>\n",
       "      <td>15</td>\n",
       "      <td>77</td>\n",
       "    </tr>\n",
       "    <tr>\n",
       "      <th>WA</th>\n",
       "      <td>16</td>\n",
       "      <td>69</td>\n",
       "    </tr>\n",
       "    <tr>\n",
       "      <th>NM</th>\n",
       "      <td>16</td>\n",
       "      <td>81</td>\n",
       "    </tr>\n",
       "    <tr>\n",
       "      <th>OR</th>\n",
       "      <td>16</td>\n",
       "      <td>77</td>\n",
       "    </tr>\n",
       "    <tr>\n",
       "      <th>MN</th>\n",
       "      <td>16</td>\n",
       "      <td>68</td>\n",
       "    </tr>\n",
       "    <tr>\n",
       "      <th>AK</th>\n",
       "      <td>16</td>\n",
       "      <td>63</td>\n",
       "    </tr>\n",
       "    <tr>\n",
       "      <th>MD</th>\n",
       "      <td>16</td>\n",
       "      <td>79</td>\n",
       "    </tr>\n",
       "    <tr>\n",
       "      <th>AR</th>\n",
       "      <td>16</td>\n",
       "      <td>83</td>\n",
       "    </tr>\n",
       "    <tr>\n",
       "      <th>HI</th>\n",
       "      <td>16</td>\n",
       "      <td>61</td>\n",
       "    </tr>\n",
       "    <tr>\n",
       "      <th>ME</th>\n",
       "      <td>16</td>\n",
       "      <td>65</td>\n",
       "    </tr>\n",
       "    <tr>\n",
       "      <th>DE</th>\n",
       "      <td>16</td>\n",
       "      <td>60</td>\n",
       "    </tr>\n",
       "    <tr>\n",
       "      <th>MI</th>\n",
       "      <td>17</td>\n",
       "      <td>73</td>\n",
       "    </tr>\n",
       "    <tr>\n",
       "      <th>NY</th>\n",
       "      <td>17</td>\n",
       "      <td>81</td>\n",
       "    </tr>\n",
       "    <tr>\n",
       "      <th>GA</th>\n",
       "      <td>17</td>\n",
       "      <td>77</td>\n",
       "    </tr>\n",
       "    <tr>\n",
       "      <th>TN</th>\n",
       "      <td>17</td>\n",
       "      <td>86</td>\n",
       "    </tr>\n",
       "    <tr>\n",
       "      <th>NC</th>\n",
       "      <td>17</td>\n",
       "      <td>83</td>\n",
       "    </tr>\n",
       "    <tr>\n",
       "      <th>CO</th>\n",
       "      <td>17</td>\n",
       "      <td>72</td>\n",
       "    </tr>\n",
       "    <tr>\n",
       "      <th>UT</th>\n",
       "      <td>17</td>\n",
       "      <td>83</td>\n",
       "    </tr>\n",
       "    <tr>\n",
       "      <th>SC</th>\n",
       "      <td>17</td>\n",
       "      <td>81</td>\n",
       "    </tr>\n",
       "    <tr>\n",
       "      <th>NJ</th>\n",
       "      <td>18</td>\n",
       "      <td>75</td>\n",
       "    </tr>\n",
       "    <tr>\n",
       "      <th>KY</th>\n",
       "      <td>18</td>\n",
       "      <td>75</td>\n",
       "    </tr>\n",
       "    <tr>\n",
       "      <th>NV</th>\n",
       "      <td>18</td>\n",
       "      <td>77</td>\n",
       "    </tr>\n",
       "    <tr>\n",
       "      <th>DC</th>\n",
       "      <td>18</td>\n",
       "      <td>63</td>\n",
       "    </tr>\n",
       "    <tr>\n",
       "      <th>SD</th>\n",
       "      <td>19</td>\n",
       "      <td>57</td>\n",
       "    </tr>\n",
       "    <tr>\n",
       "      <th>IA</th>\n",
       "      <td>19</td>\n",
       "      <td>53</td>\n",
       "    </tr>\n",
       "    <tr>\n",
       "      <th>NH</th>\n",
       "      <td>19</td>\n",
       "      <td>62</td>\n",
       "    </tr>\n",
       "    <tr>\n",
       "      <th>MT</th>\n",
       "      <td>19</td>\n",
       "      <td>59</td>\n",
       "    </tr>\n",
       "    <tr>\n",
       "      <th>MA</th>\n",
       "      <td>19</td>\n",
       "      <td>59</td>\n",
       "    </tr>\n",
       "    <tr>\n",
       "      <th>ID</th>\n",
       "      <td>21</td>\n",
       "      <td>92</td>\n",
       "    </tr>\n",
       "    <tr>\n",
       "      <th>WV</th>\n",
       "      <td>21</td>\n",
       "      <td>82</td>\n",
       "    </tr>\n",
       "    <tr>\n",
       "      <th>WY</th>\n",
       "      <td>21</td>\n",
       "      <td>58</td>\n",
       "    </tr>\n",
       "    <tr>\n",
       "      <th>NE</th>\n",
       "      <td>22</td>\n",
       "      <td>80</td>\n",
       "    </tr>\n",
       "    <tr>\n",
       "      <th>ND</th>\n",
       "      <td>24</td>\n",
       "      <td>45</td>\n",
       "    </tr>\n",
       "    <tr>\n",
       "      <th>RI</th>\n",
       "      <td>24</td>\n",
       "      <td>80</td>\n",
       "    </tr>\n",
       "    <tr>\n",
       "      <th>VT</th>\n",
       "      <td>29</td>\n",
       "      <td>76</td>\n",
       "    </tr>\n",
       "  </tbody>\n",
       "</table>\n",
       "</div>"
      ],
      "text/plain": [
       "       min  max\n",
       "state          \n",
       "KS       2   67\n",
       "LA       6   71\n",
       "TX       6   84\n",
       "PA       8   91\n",
       "IL      13   68\n",
       "OH      13   76\n",
       "WI      14   77\n",
       "AZ      14   89\n",
       "CA      14   91\n",
       "IN      15   69\n",
       "OK      15   83\n",
       "MS      15   80\n",
       "MO      15   70\n",
       "FL      15   88\n",
       "VA      15   79\n",
       "CT      15   62\n",
       "AL      15   77\n",
       "WA      16   69\n",
       "NM      16   81\n",
       "OR      16   77\n",
       "MN      16   68\n",
       "AK      16   63\n",
       "MD      16   79\n",
       "AR      16   83\n",
       "HI      16   61\n",
       "ME      16   65\n",
       "DE      16   60\n",
       "MI      17   73\n",
       "NY      17   81\n",
       "GA      17   77\n",
       "TN      17   86\n",
       "NC      17   83\n",
       "CO      17   72\n",
       "UT      17   83\n",
       "SC      17   81\n",
       "NJ      18   75\n",
       "KY      18   75\n",
       "NV      18   77\n",
       "DC      18   63\n",
       "SD      19   57\n",
       "IA      19   53\n",
       "NH      19   62\n",
       "MT      19   59\n",
       "MA      19   59\n",
       "ID      21   92\n",
       "WV      21   82\n",
       "WY      21   58\n",
       "NE      22   80\n",
       "ND      24   45\n",
       "RI      24   80\n",
       "VT      29   76"
      ]
     },
     "execution_count": 258,
     "metadata": {},
     "output_type": "execute_result"
    },
    {
     "data": {
      "application/javascript": [
       "\n",
       "            setTimeout(function() {\n",
       "                var nbb_cell_id = 258;\n",
       "                var nbb_unformatted_code = \"# Min and Max age by State\\n\\nage_max_min_by_state = (\\n    df_civilians[filter_zero_excl]\\n    .groupby(\\\"state\\\")[\\\"age\\\"]\\n    .agg([min, max])\\n    .sort_values(\\\"min\\\")\\n)\\nage_max_min_by_state\";\n",
       "                var nbb_formatted_code = \"# Min and Max age by State\\n\\nage_max_min_by_state = (\\n    df_civilians[filter_zero_excl]\\n    .groupby(\\\"state\\\")[\\\"age\\\"]\\n    .agg([min, max])\\n    .sort_values(\\\"min\\\")\\n)\\nage_max_min_by_state\";\n",
       "                var nbb_cells = Jupyter.notebook.get_cells();\n",
       "                for (var i = 0; i < nbb_cells.length; ++i) {\n",
       "                    if (nbb_cells[i].input_prompt_number == nbb_cell_id) {\n",
       "                        if (nbb_cells[i].get_text() == nbb_unformatted_code) {\n",
       "                             nbb_cells[i].set_text(nbb_formatted_code);\n",
       "                        }\n",
       "                        break;\n",
       "                    }\n",
       "                }\n",
       "            }, 500);\n",
       "            "
      ],
      "text/plain": [
       "<IPython.core.display.Javascript object>"
      ]
     },
     "metadata": {},
     "output_type": "display_data"
    }
   ],
   "source": [
    "# Min and Max age by State\n",
    "\n",
    "age_max_min_by_state = (\n",
    "    df_civilians[filter_zero_excl]\n",
    "    .groupby(\"state\")[\"age\"]\n",
    "    .agg([min, max])\n",
    "    .sort_values(\"min\")\n",
    ")\n",
    "age_max_min_by_state"
   ]
  },
  {
   "cell_type": "code",
   "execution_count": 259,
   "id": "3a7a612d",
   "metadata": {},
   "outputs": [
    {
     "data": {
      "text/plain": [
       "<AxesSubplot:xlabel='year', ylabel='manner_of_death'>"
      ]
     },
     "execution_count": 259,
     "metadata": {},
     "output_type": "execute_result"
    },
    {
     "data": {
      "image/png": "[encoded data removed]",
      "text/plain": [
       "<Figure size 936x432 with 1 Axes>"
      ]
     },
     "metadata": {},
     "output_type": "display_data"
    },
    {
     "data": {
      "application/javascript": [
       "\n",
       "            setTimeout(function() {\n",
       "                var nbb_cell_id = 259;\n",
       "                var nbb_unformatted_code = \"# Manner of death by year and gender\\n\\nsns.boxplot(data=df_civilians, x=\\\"year\\\", y=\\\"manner_of_death\\\", hue=\\\"gender\\\")\";\n",
       "                var nbb_formatted_code = \"# Manner of death by year and gender\\n\\nsns.boxplot(data=df_civilians, x=\\\"year\\\", y=\\\"manner_of_death\\\", hue=\\\"gender\\\")\";\n",
       "                var nbb_cells = Jupyter.notebook.get_cells();\n",
       "                for (var i = 0; i < nbb_cells.length; ++i) {\n",
       "                    if (nbb_cells[i].input_prompt_number == nbb_cell_id) {\n",
       "                        if (nbb_cells[i].get_text() == nbb_unformatted_code) {\n",
       "                             nbb_cells[i].set_text(nbb_formatted_code);\n",
       "                        }\n",
       "                        break;\n",
       "                    }\n",
       "                }\n",
       "            }, 500);\n",
       "            "
      ],
      "text/plain": [
       "<IPython.core.display.Javascript object>"
      ]
     },
     "metadata": {},
     "output_type": "display_data"
    }
   ],
   "source": [
    "# Manner of death by year and gender\n",
    "\n",
    "sns.boxplot(data=df_civilians, x=\"year\", y=\"manner_of_death\", hue=\"gender\")\n"
   ]
  },
  {
   "cell_type": "code",
   "execution_count": 260,
   "id": "91334446",
   "metadata": {},
   "outputs": [
    {
     "data": {
      "text/plain": [
       "<AxesSubplot:xlabel='manner_of_death', ylabel='year'>"
      ]
     },
     "execution_count": 260,
     "metadata": {},
     "output_type": "execute_result"
    },
    {
     "data": {
      "image/png": "[encoded data removed]",
      "text/plain": [
       "<Figure size 936x432 with 1 Axes>"
      ]
     },
     "metadata": {},
     "output_type": "display_data"
    },
    {
     "data": {
      "application/javascript": [
       "\n",
       "            setTimeout(function() {\n",
       "                var nbb_cell_id = 260;\n",
       "                var nbb_unformatted_code = \"# Manner of death by year and signs of mental illness\\n\\nsns.violinplot(\\n    data=df_civilians, x=\\\"manner_of_death\\\", y=\\\"year\\\", hue=\\\"signs_of_mental_illness\\\"\\n)\";\n",
       "                var nbb_formatted_code = \"# Manner of death by year and signs of mental illness\\n\\nsns.violinplot(\\n    data=df_civilians, x=\\\"manner_of_death\\\", y=\\\"year\\\", hue=\\\"signs_of_mental_illness\\\"\\n)\";\n",
       "                var nbb_cells = Jupyter.notebook.get_cells();\n",
       "                for (var i = 0; i < nbb_cells.length; ++i) {\n",
       "                    if (nbb_cells[i].input_prompt_number == nbb_cell_id) {\n",
       "                        if (nbb_cells[i].get_text() == nbb_unformatted_code) {\n",
       "                             nbb_cells[i].set_text(nbb_formatted_code);\n",
       "                        }\n",
       "                        break;\n",
       "                    }\n",
       "                }\n",
       "            }, 500);\n",
       "            "
      ],
      "text/plain": [
       "<IPython.core.display.Javascript object>"
      ]
     },
     "metadata": {},
     "output_type": "display_data"
    }
   ],
   "source": [
    "# Manner of death by year and signs of mental illness\n",
    "\n",
    "sns.violinplot(\n",
    "    data=df_civilians, x=\"manner_of_death\", y=\"year\", hue=\"signs_of_mental_illness\"\n",
    ")"
   ]
  },
  {
   "cell_type": "code",
   "execution_count": 261,
   "id": "a32b4101",
   "metadata": {},
   "outputs": [
    {
     "data": {
      "text/plain": [
       "<AxesSubplot:xlabel='age', ylabel='race'>"
      ]
     },
     "execution_count": 261,
     "metadata": {},
     "output_type": "execute_result"
    },
    {
     "data": {
      "image/png": "[encoded data removed]",
      "text/plain": [
       "<Figure size 936x432 with 1 Axes>"
      ]
     },
     "metadata": {},
     "output_type": "display_data"
    },
    {
     "data": {
      "application/javascript": [
       "\n",
       "            setTimeout(function() {\n",
       "                var nbb_cell_id = 261;\n",
       "                var nbb_unformatted_code = \"# Race by age\\n\\nsns.stripplot(data=df_civilians, x=\\\"age\\\", y=\\\"race\\\", orient=\\\"h\\\")\";\n",
       "                var nbb_formatted_code = \"# Race by age\\n\\nsns.stripplot(data=df_civilians, x=\\\"age\\\", y=\\\"race\\\", orient=\\\"h\\\")\";\n",
       "                var nbb_cells = Jupyter.notebook.get_cells();\n",
       "                for (var i = 0; i < nbb_cells.length; ++i) {\n",
       "                    if (nbb_cells[i].input_prompt_number == nbb_cell_id) {\n",
       "                        if (nbb_cells[i].get_text() == nbb_unformatted_code) {\n",
       "                             nbb_cells[i].set_text(nbb_formatted_code);\n",
       "                        }\n",
       "                        break;\n",
       "                    }\n",
       "                }\n",
       "            }, 500);\n",
       "            "
      ],
      "text/plain": [
       "<IPython.core.display.Javascript object>"
      ]
     },
     "metadata": {},
     "output_type": "display_data"
    }
   ],
   "source": [
    "# Race by age\n",
    "\n",
    "sns.stripplot(data=df_civilians, x=\"age\", y=\"race\", orient=\"h\")"
   ]
  },
  {
   "cell_type": "code",
   "execution_count": 262,
   "id": "7efa43ab",
   "metadata": {},
   "outputs": [
    {
     "data": {
      "text/plain": [
       "<AxesSubplot:xlabel='Count', ylabel='year'>"
      ]
     },
     "execution_count": 262,
     "metadata": {},
     "output_type": "execute_result"
    },
    {
     "data": {
      "image/png": "[encoded data removed]",
      "text/plain": [
       "<Figure size 936x432 with 1 Axes>"
      ]
     },
     "metadata": {},
     "output_type": "display_data"
    },
    {
     "data": {
      "application/javascript": [
       "\n",
       "            setTimeout(function() {\n",
       "                var nbb_cell_id = 262;\n",
       "                var nbb_unformatted_code = \"# Killings by race each year\\n\\nsns.histplot(\\n    df_civilians, y=\\\"year\\\", hue=\\\"race\\\", multiple=\\\"stack\\\",\\n)\\n\\n# Number of African Americans killed is the highest each year.\";\n",
       "                var nbb_formatted_code = \"# Killings by race each year\\n\\nsns.histplot(\\n    df_civilians, y=\\\"year\\\", hue=\\\"race\\\", multiple=\\\"stack\\\",\\n)\\n\\n# Number of African Americans killed is the highest each year.\";\n",
       "                var nbb_cells = Jupyter.notebook.get_cells();\n",
       "                for (var i = 0; i < nbb_cells.length; ++i) {\n",
       "                    if (nbb_cells[i].input_prompt_number == nbb_cell_id) {\n",
       "                        if (nbb_cells[i].get_text() == nbb_unformatted_code) {\n",
       "                             nbb_cells[i].set_text(nbb_formatted_code);\n",
       "                        }\n",
       "                        break;\n",
       "                    }\n",
       "                }\n",
       "            }, 500);\n",
       "            "
      ],
      "text/plain": [
       "<IPython.core.display.Javascript object>"
      ]
     },
     "metadata": {},
     "output_type": "display_data"
    }
   ],
   "source": [
    "# Killings by race each year\n",
    "\n",
    "sns.histplot(\n",
    "    df_civilians, y=\"year\", hue=\"race\", multiple=\"stack\",\n",
    ")\n",
    "\n",
    "# Number of African Americans killed is the highest each year."
   ]
  },
  {
   "cell_type": "code",
   "execution_count": 263,
   "id": "2b5ef354",
   "metadata": {},
   "outputs": [
    {
     "data": {
      "text/plain": [
       "35.390358974358975"
      ]
     },
     "execution_count": 263,
     "metadata": {},
     "output_type": "execute_result"
    },
    {
     "data": {
      "application/javascript": [
       "\n",
       "            setTimeout(function() {\n",
       "                var nbb_cell_id = 263;\n",
       "                var nbb_unformatted_code = \"# Average age of persons attacking police officers\\n\\nfilter_attack = df_civilians[\\\"threat_level\\\"] == \\\"attack\\\"\\ndf_civilians[filter_attack][\\\"age\\\"].mean()\";\n",
       "                var nbb_formatted_code = \"# Average age of persons attacking police officers\\n\\nfilter_attack = df_civilians[\\\"threat_level\\\"] == \\\"attack\\\"\\ndf_civilians[filter_attack][\\\"age\\\"].mean()\";\n",
       "                var nbb_cells = Jupyter.notebook.get_cells();\n",
       "                for (var i = 0; i < nbb_cells.length; ++i) {\n",
       "                    if (nbb_cells[i].input_prompt_number == nbb_cell_id) {\n",
       "                        if (nbb_cells[i].get_text() == nbb_unformatted_code) {\n",
       "                             nbb_cells[i].set_text(nbb_formatted_code);\n",
       "                        }\n",
       "                        break;\n",
       "                    }\n",
       "                }\n",
       "            }, 500);\n",
       "            "
      ],
      "text/plain": [
       "<IPython.core.display.Javascript object>"
      ]
     },
     "metadata": {},
     "output_type": "display_data"
    }
   ],
   "source": [
    "# Average age of persons attacking police officers\n",
    "\n",
    "filter_attack = df_civilians[\"threat_level\"] == \"attack\"\n",
    "df_civilians[filter_attack][\"age\"].mean()"
   ]
  },
  {
   "cell_type": "code",
   "execution_count": 264,
   "id": "551f1e90",
   "metadata": {},
   "outputs": [
    {
     "data": {
      "text/plain": [
       "<seaborn.axisgrid.FacetGrid at 0x7fd3c8c7ffd0>"
      ]
     },
     "execution_count": 264,
     "metadata": {},
     "output_type": "execute_result"
    },
    {
     "data": {
      "image/png": "[encoded data removed]",
      "text/plain": [
       "<Figure size 539.225x432 with 1 Axes>"
      ]
     },
     "metadata": {},
     "output_type": "display_data"
    },
    {
     "data": {
      "application/javascript": [
       "\n",
       "            setTimeout(function() {\n",
       "                var nbb_cell_id = 264;\n",
       "                var nbb_unformatted_code = \"# Threat level density by age\\n\\nsns.displot(\\n    data=df_civilians,\\n    x=\\\"age\\\",\\n    hue=\\\"threat_level\\\",\\n    kind=\\\"kde\\\",\\n    height=6,\\n    multiple=\\\"fill\\\",\\n    clip=(0, None),\\n    palette=\\\"ch:rot=-.25,hue=1,light=.75\\\",\\n)\";\n",
       "                var nbb_formatted_code = \"# Threat level density by age\\n\\nsns.displot(\\n    data=df_civilians,\\n    x=\\\"age\\\",\\n    hue=\\\"threat_level\\\",\\n    kind=\\\"kde\\\",\\n    height=6,\\n    multiple=\\\"fill\\\",\\n    clip=(0, None),\\n    palette=\\\"ch:rot=-.25,hue=1,light=.75\\\",\\n)\";\n",
       "                var nbb_cells = Jupyter.notebook.get_cells();\n",
       "                for (var i = 0; i < nbb_cells.length; ++i) {\n",
       "                    if (nbb_cells[i].input_prompt_number == nbb_cell_id) {\n",
       "                        if (nbb_cells[i].get_text() == nbb_unformatted_code) {\n",
       "                             nbb_cells[i].set_text(nbb_formatted_code);\n",
       "                        }\n",
       "                        break;\n",
       "                    }\n",
       "                }\n",
       "            }, 500);\n",
       "            "
      ],
      "text/plain": [
       "<IPython.core.display.Javascript object>"
      ]
     },
     "metadata": {},
     "output_type": "display_data"
    }
   ],
   "source": [
    "# Threat level density by age\n",
    "\n",
    "sns.displot(\n",
    "    data=df_civilians,\n",
    "    x=\"age\",\n",
    "    hue=\"threat_level\",\n",
    "    kind=\"kde\",\n",
    "    height=6,\n",
    "    multiple=\"fill\",\n",
    "    clip=(0, None),\n",
    "    palette=\"ch:rot=-.25,hue=1,light=.75\",\n",
    ")"
   ]
  },
  {
   "cell_type": "code",
   "execution_count": 265,
   "id": "12d26fa8",
   "metadata": {},
   "outputs": [
    {
     "data": {
      "text/plain": [
       "<AxesSubplot:xlabel='month', ylabel='year'>"
      ]
     },
     "execution_count": 265,
     "metadata": {},
     "output_type": "execute_result"
    },
    {
     "data": {
      "image/png": "[encoded data removed]",
      "text/plain": [
       "<Figure size 936x432 with 2 Axes>"
      ]
     },
     "metadata": {},
     "output_type": "display_data"
    },
    {
     "data": {
      "application/javascript": [
       "\n",
       "            setTimeout(function() {\n",
       "                var nbb_cell_id = 265;\n",
       "                var nbb_unformatted_code = \"# Age of killed persons by year and month\\n\\ncivilians = df_civilians.pivot_table(\\\"age\\\", \\\"year\\\", \\\"month\\\", aggfunc=\\\"mean\\\")\\nsns.heatmap(civilians)\";\n",
       "                var nbb_formatted_code = \"# Age of killed persons by year and month\\n\\ncivilians = df_civilians.pivot_table(\\\"age\\\", \\\"year\\\", \\\"month\\\", aggfunc=\\\"mean\\\")\\nsns.heatmap(civilians)\";\n",
       "                var nbb_cells = Jupyter.notebook.get_cells();\n",
       "                for (var i = 0; i < nbb_cells.length; ++i) {\n",
       "                    if (nbb_cells[i].input_prompt_number == nbb_cell_id) {\n",
       "                        if (nbb_cells[i].get_text() == nbb_unformatted_code) {\n",
       "                             nbb_cells[i].set_text(nbb_formatted_code);\n",
       "                        }\n",
       "                        break;\n",
       "                    }\n",
       "                }\n",
       "            }, 500);\n",
       "            "
      ],
      "text/plain": [
       "<IPython.core.display.Javascript object>"
      ]
     },
     "metadata": {},
     "output_type": "display_data"
    }
   ],
   "source": [
    "# Age of killed persons by year and month\n",
    "\n",
    "civilians = df_civilians.pivot_table(\"age\", \"year\", \"month\", aggfunc=\"mean\")\n",
    "sns.heatmap(civilians)"
   ]
  },
  {
   "cell_type": "code",
   "execution_count": 266,
   "id": "1a2a3792",
   "metadata": {},
   "outputs": [
    {
     "data": {
      "text/plain": [
       "gun    478\n",
       "Name: armed, dtype: int64"
      ]
     },
     "execution_count": 266,
     "metadata": {},
     "output_type": "execute_result"
    },
    {
     "data": {
      "application/javascript": [
       "\n",
       "            setTimeout(function() {\n",
       "                var nbb_cell_id = 266;\n",
       "                var nbb_unformatted_code = \"# The most popular weapon in California\\n\\nfilter_ca = df_civilians[\\\"state\\\"] == \\\"CA\\\"\\ndf_civilians[filter_ca][\\\"armed\\\"].value_counts().head(1)\";\n",
       "                var nbb_formatted_code = \"# The most popular weapon in California\\n\\nfilter_ca = df_civilians[\\\"state\\\"] == \\\"CA\\\"\\ndf_civilians[filter_ca][\\\"armed\\\"].value_counts().head(1)\";\n",
       "                var nbb_cells = Jupyter.notebook.get_cells();\n",
       "                for (var i = 0; i < nbb_cells.length; ++i) {\n",
       "                    if (nbb_cells[i].input_prompt_number == nbb_cell_id) {\n",
       "                        if (nbb_cells[i].get_text() == nbb_unformatted_code) {\n",
       "                             nbb_cells[i].set_text(nbb_formatted_code);\n",
       "                        }\n",
       "                        break;\n",
       "                    }\n",
       "                }\n",
       "            }, 500);\n",
       "            "
      ],
      "text/plain": [
       "<IPython.core.display.Javascript object>"
      ]
     },
     "metadata": {},
     "output_type": "display_data"
    }
   ],
   "source": [
    "# The most popular weapon in California\n",
    "\n",
    "filter_ca = df_civilians[\"state\"] == \"CA\"\n",
    "df_civilians[filter_ca][\"armed\"].value_counts().head(1)"
   ]
  },
  {
   "cell_type": "code",
   "execution_count": 267,
   "id": "21bdf1ca",
   "metadata": {},
   "outputs": [
    {
     "data": {
      "application/javascript": [
       "\n",
       "            setTimeout(function() {\n",
       "                var nbb_cell_id = 267;\n",
       "                var nbb_unformatted_code = \"import matplotlib.pyplot as plt\\nimport geopandas as gpd\";\n",
       "                var nbb_formatted_code = \"import matplotlib.pyplot as plt\\nimport geopandas as gpd\";\n",
       "                var nbb_cells = Jupyter.notebook.get_cells();\n",
       "                for (var i = 0; i < nbb_cells.length; ++i) {\n",
       "                    if (nbb_cells[i].input_prompt_number == nbb_cell_id) {\n",
       "                        if (nbb_cells[i].get_text() == nbb_unformatted_code) {\n",
       "                             nbb_cells[i].set_text(nbb_formatted_code);\n",
       "                        }\n",
       "                        break;\n",
       "                    }\n",
       "                }\n",
       "            }, 500);\n",
       "            "
      ],
      "text/plain": [
       "<IPython.core.display.Javascript object>"
      ]
     },
     "metadata": {},
     "output_type": "display_data"
    }
   ],
   "source": [
    "import matplotlib.pyplot as plt\n",
    "import geopandas as gpd"
   ]
  },
  {
   "cell_type": "code",
   "execution_count": 268,
   "id": "ce79a12b",
   "metadata": {},
   "outputs": [
    {
     "data": {
      "text/plain": [
       "<AxesSubplot:>"
      ]
     },
     "execution_count": 268,
     "metadata": {},
     "output_type": "execute_result"
    },
    {
     "data": {
      "image/png": "[encoded data removed]",
      "text/plain": [
       "<Figure size 936x432 with 1 Axes>"
      ]
     },
     "metadata": {},
     "output_type": "display_data"
    },
    {
     "data": {
      "application/javascript": [
       "\n",
       "            setTimeout(function() {\n",
       "                var nbb_cell_id = 268;\n",
       "                var nbb_unformatted_code = \"# Visualization on map\\n\\nstates_info = gpd.GeoDataFrame(\\n    geometry=gpd.points_from_xy(df_civilians.longitude, df_civilians.latitude),\\n)\\n\\nstates_info.plot(\\n    color=\\\"white\\\", edgecolor=\\\"black\\\", legend=\\\"city\\\",\\n)\";\n",
       "                var nbb_formatted_code = \"# Visualization on map\\n\\nstates_info = gpd.GeoDataFrame(\\n    geometry=gpd.points_from_xy(df_civilians.longitude, df_civilians.latitude),\\n)\\n\\nstates_info.plot(\\n    color=\\\"white\\\", edgecolor=\\\"black\\\", legend=\\\"city\\\",\\n)\";\n",
       "                var nbb_cells = Jupyter.notebook.get_cells();\n",
       "                for (var i = 0; i < nbb_cells.length; ++i) {\n",
       "                    if (nbb_cells[i].input_prompt_number == nbb_cell_id) {\n",
       "                        if (nbb_cells[i].get_text() == nbb_unformatted_code) {\n",
       "                             nbb_cells[i].set_text(nbb_formatted_code);\n",
       "                        }\n",
       "                        break;\n",
       "                    }\n",
       "                }\n",
       "            }, 500);\n",
       "            "
      ],
      "text/plain": [
       "<IPython.core.display.Javascript object>"
      ]
     },
     "metadata": {},
     "output_type": "display_data"
    }
   ],
   "source": [
    "# Visualization on map\n",
    "\n",
    "states_info = gpd.GeoDataFrame(\n",
    "    geometry=gpd.points_from_xy(df_civilians.longitude, df_civilians.latitude),\n",
    ")\n",
    "\n",
    "states_info.plot(\n",
    "    color=\"white\", edgecolor=\"black\", legend=\"city\",\n",
    ")"
   ]
  }
 ],
 "metadata": {
  "kernelspec": {
   "display_name": "Python 3 (ipykernel)",
   "language": "python",
   "name": "python3"
  },
  "language_info": {
   "codemirror_mode": {
    "name": "ipython",
    "version": 3
   },
   "file_extension": ".py",
   "mimetype": "text/x-python",
   "name": "python",
   "nbconvert_exporter": "python",
   "pygments_lexer": "ipython3",
   "version": "3.9.12"
  }
 },
 "nbformat": 4,
 "nbformat_minor": 5
}
